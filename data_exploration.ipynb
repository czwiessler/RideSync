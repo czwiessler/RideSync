{
 "cells": [
  {
   "cell_type": "code",
   "id": "initial_id",
   "metadata": {
    "collapsed": true,
    "ExecuteTime": {
     "end_time": "2025-05-24T16:10:06.590891Z",
     "start_time": "2025-05-24T16:10:06.573570Z"
    }
   },
   "source": [
    "# ┌─ Zelle 1: alle nötigen Imports\n",
    "import pandas as pd\n",
    "import geopandas as gpd\n",
    "from shapely.geometry import Point\n",
    "from pyproj import Transformer\n",
    "\n",
    "# ┌─ Zelle 2: Ampel-Daten einlesen und GeoDataFrame erstellen\n",
    "df = pd.read_csv('lsaknoten_20241031.csv', sep=',')\n",
    "# Hier CRS an Dein Daten-Format anpassen!\n",
    "gdf = gpd.GeoDataFrame(\n",
    "    df,\n",
    "    geometry=gpd.points_from_xy(df.x, df.y),\n",
    "    crs=\"EPSG:31466\"\n",
    ")\n",
    "\n",
    "# ┌─ Zelle 3: Koordinate in dasselbe CRS transformieren\n",
    "lon, lat = 50.942676, 6.926640\n",
    "transformer = Transformer.from_crs(\"EPSG:31466\", gdf.crs, always_xy=True)\n",
    "x_proj, y_proj = transformer.transform(lon, lat)\n",
    "center = Point(x_proj, y_proj)\n",
    "\n",
    "# ┌─ Zelle 4: Puffer anlegen und Punkte filtern\n",
    "radius = 5000  # Meter\n",
    "buffer = center.buffer(radius)\n",
    "# oder alternativ Distanz-Spalte und Filter:\n",
    "gdf['dist_m'] = gdf.geometry.distance(center)\n",
    "nearby = gdf[gdf['dist_m'] <= radius].copy()\n",
    "\n",
    "# ┌─ Zelle 5: Ergebnis anzeigen\n",
    "nearby[['lsanr', 'standort', 'bezirk', 'dist_m']]\n"
   ],
   "outputs": [
    {
     "data": {
      "text/plain": [
       "Empty DataFrame\n",
       "Columns: [lsanr, standort, bezirk, dist_m]\n",
       "Index: []"
      ],
      "text/html": [
       "<div>\n",
       "<style scoped>\n",
       "    .dataframe tbody tr th:only-of-type {\n",
       "        vertical-align: middle;\n",
       "    }\n",
       "\n",
       "    .dataframe tbody tr th {\n",
       "        vertical-align: top;\n",
       "    }\n",
       "\n",
       "    .dataframe thead th {\n",
       "        text-align: right;\n",
       "    }\n",
       "</style>\n",
       "<table border=\"1\" class=\"dataframe\">\n",
       "  <thead>\n",
       "    <tr style=\"text-align: right;\">\n",
       "      <th></th>\n",
       "      <th>lsanr</th>\n",
       "      <th>standort</th>\n",
       "      <th>bezirk</th>\n",
       "      <th>dist_m</th>\n",
       "    </tr>\n",
       "  </thead>\n",
       "  <tbody>\n",
       "  </tbody>\n",
       "</table>\n",
       "</div>"
      ]
     },
     "execution_count": 9,
     "metadata": {},
     "output_type": "execute_result"
    }
   ],
   "execution_count": 9
  }
 ],
 "metadata": {
  "kernelspec": {
   "display_name": "Python 3",
   "language": "python",
   "name": "python3"
  },
  "language_info": {
   "codemirror_mode": {
    "name": "ipython",
    "version": 2
   },
   "file_extension": ".py",
   "mimetype": "text/x-python",
   "name": "python",
   "nbconvert_exporter": "python",
   "pygments_lexer": "ipython2",
   "version": "2.7.6"
  }
 },
 "nbformat": 4,
 "nbformat_minor": 5
}
