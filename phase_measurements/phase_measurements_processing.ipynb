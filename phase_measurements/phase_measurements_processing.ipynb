{
 "cells": [
  {
   "metadata": {
    "ExecuteTime": {
     "end_time": "2025-07-14T12:30:50.413696Z",
     "start_time": "2025-07-14T12:30:50.408706Z"
    }
   },
   "cell_type": "code",
   "source": [
    "# %% \n",
    "import pandas as pd\n",
    "import numpy as np\n",
    "import matplotlib.pyplot as plt\n",
    "from pathlib import Path\n",
    "import plotly.graph_objects as go\n",
    "\n",
    "# Anzeigeeinstellungen\n",
    "pd.set_option('display.max_rows', 10)\n",
    "plt.rcParams['figure.figsize'] = (10, 5)\n"
   ],
   "id": "62d3d6be1f4e6923",
   "outputs": [],
   "execution_count": 16
  },
  {
   "cell_type": "code",
   "id": "initial_id",
   "metadata": {
    "collapsed": true,
    "ExecuteTime": {
     "end_time": "2025-07-14T12:30:50.472672Z",
     "start_time": "2025-07-14T12:30:50.442400Z"
    }
   },
   "source": [
    "# %%\n",
    "# Verzeichnis und Filenamen\n",
    "data_dir = Path(r\"C:\\Users\\malte\\PycharmProjects\\RideSync\\phase_measurements\")\n",
    "files = [\n",
    "    \"Venloer_4279001084.csv\",\n",
    "    \"Vogelsanger_2107720091.csv\",\n",
    "    \"Weinsbergstr_2603639844.csv\"\n",
    "]\n",
    "\n",
    "# Alle Daten in Dict von DataFrames laden\n",
    "dfs = {}\n",
    "for fn in files:\n",
    "    code = fn.split(\".\")[0]  # z.B. \"Venloer_4279001084\"\n",
    "    path = data_dir / fn\n",
    "    df = pd.read_csv(path, sep=\",\")\n",
    "    # Timestamp parsen\n",
    "    df['Time'] = pd.to_datetime(df['Time'])\n",
    "    dfs[code] = df\n",
    "\n",
    "# Kurzer Blick\n",
    "for code, df in dfs.items():\n",
    "    print(code, \"– Einträge:\", len(df))\n",
    "    display(df.head(15))\n"
   ],
   "outputs": [
    {
     "name": "stdout",
     "output_type": "stream",
     "text": [
      "Venloer_4279001084 – Einträge: 7\n"
     ]
    },
    {
     "name": "stderr",
     "output_type": "stream",
     "text": [
      "C:\\Users\\malte\\AppData\\Local\\Temp\\ipykernel_19172\\3411592846.py:17: UserWarning:\n",
      "\n",
      "Could not infer format, so each element will be parsed individually, falling back to `dateutil`. To ensure parsing is consistent and as-expected, please specify a format.\n",
      "\n",
      "C:\\Users\\malte\\AppData\\Local\\Temp\\ipykernel_19172\\3411592846.py:17: UserWarning:\n",
      "\n",
      "Could not infer format, so each element will be parsed individually, falling back to `dateutil`. To ensure parsing is consistent and as-expected, please specify a format.\n",
      "\n",
      "C:\\Users\\malte\\AppData\\Local\\Temp\\ipykernel_19172\\3411592846.py:17: UserWarning:\n",
      "\n",
      "Could not infer format, so each element will be parsed individually, falling back to `dateutil`. To ensure parsing is consistent and as-expected, please specify a format.\n",
      "\n"
     ]
    },
    {
     "data": {
      "text/plain": [
       "         Date                Time  Value     Timestamp  Note\n",
       "0  14/07/2025 2025-07-14 13:43:31      1  1.750000e+12   NaN\n",
       "1  14/07/2025 2025-07-14 13:42:39     -1  1.750000e+12   NaN\n",
       "2  14/07/2025 2025-07-14 13:41:41      1  1.750000e+12   NaN\n",
       "3  14/07/2025 2025-07-14 13:40:49     -1  1.750000e+12   NaN\n",
       "4  14/07/2025 2025-07-14 13:39:52      1  1.750000e+12   NaN\n",
       "5  14/07/2025 2025-07-14 13:38:59     -1  1.750000e+12   NaN\n",
       "6  14/07/2025 2025-07-14 13:38:01      1  1.750000e+12   NaN"
      ],
      "text/html": [
       "<div>\n",
       "<style scoped>\n",
       "    .dataframe tbody tr th:only-of-type {\n",
       "        vertical-align: middle;\n",
       "    }\n",
       "\n",
       "    .dataframe tbody tr th {\n",
       "        vertical-align: top;\n",
       "    }\n",
       "\n",
       "    .dataframe thead th {\n",
       "        text-align: right;\n",
       "    }\n",
       "</style>\n",
       "<table border=\"1\" class=\"dataframe\">\n",
       "  <thead>\n",
       "    <tr style=\"text-align: right;\">\n",
       "      <th></th>\n",
       "      <th>Date</th>\n",
       "      <th>Time</th>\n",
       "      <th>Value</th>\n",
       "      <th>Timestamp</th>\n",
       "      <th>Note</th>\n",
       "    </tr>\n",
       "  </thead>\n",
       "  <tbody>\n",
       "    <tr>\n",
       "      <th>0</th>\n",
       "      <td>14/07/2025</td>\n",
       "      <td>2025-07-14 13:43:31</td>\n",
       "      <td>1</td>\n",
       "      <td>1.750000e+12</td>\n",
       "      <td>NaN</td>\n",
       "    </tr>\n",
       "    <tr>\n",
       "      <th>1</th>\n",
       "      <td>14/07/2025</td>\n",
       "      <td>2025-07-14 13:42:39</td>\n",
       "      <td>-1</td>\n",
       "      <td>1.750000e+12</td>\n",
       "      <td>NaN</td>\n",
       "    </tr>\n",
       "    <tr>\n",
       "      <th>2</th>\n",
       "      <td>14/07/2025</td>\n",
       "      <td>2025-07-14 13:41:41</td>\n",
       "      <td>1</td>\n",
       "      <td>1.750000e+12</td>\n",
       "      <td>NaN</td>\n",
       "    </tr>\n",
       "    <tr>\n",
       "      <th>3</th>\n",
       "      <td>14/07/2025</td>\n",
       "      <td>2025-07-14 13:40:49</td>\n",
       "      <td>-1</td>\n",
       "      <td>1.750000e+12</td>\n",
       "      <td>NaN</td>\n",
       "    </tr>\n",
       "    <tr>\n",
       "      <th>4</th>\n",
       "      <td>14/07/2025</td>\n",
       "      <td>2025-07-14 13:39:52</td>\n",
       "      <td>1</td>\n",
       "      <td>1.750000e+12</td>\n",
       "      <td>NaN</td>\n",
       "    </tr>\n",
       "    <tr>\n",
       "      <th>5</th>\n",
       "      <td>14/07/2025</td>\n",
       "      <td>2025-07-14 13:38:59</td>\n",
       "      <td>-1</td>\n",
       "      <td>1.750000e+12</td>\n",
       "      <td>NaN</td>\n",
       "    </tr>\n",
       "    <tr>\n",
       "      <th>6</th>\n",
       "      <td>14/07/2025</td>\n",
       "      <td>2025-07-14 13:38:01</td>\n",
       "      <td>1</td>\n",
       "      <td>1.750000e+12</td>\n",
       "      <td>NaN</td>\n",
       "    </tr>\n",
       "  </tbody>\n",
       "</table>\n",
       "</div>"
      ]
     },
     "metadata": {},
     "output_type": "display_data"
    },
    {
     "name": "stdout",
     "output_type": "stream",
     "text": [
      "Vogelsanger_2107720091 – Einträge: 7\n"
     ]
    },
    {
     "data": {
      "text/plain": [
       "         Date                Time  Value     Timestamp  Note\n",
       "0  14/07/2025 2025-07-14 13:50:57      1  1.750000e+12   NaN\n",
       "1  14/07/2025 2025-07-14 13:50:13     -1  1.750000e+12   NaN\n",
       "2  14/07/2025 2025-07-14 13:49:07      1  1.750000e+12   NaN\n",
       "3  14/07/2025 2025-07-14 13:48:22     -1  1.750000e+12   NaN\n",
       "4  14/07/2025 2025-07-14 13:47:17      1  1.750000e+12   NaN\n",
       "5  14/07/2025 2025-07-14 13:46:32     -1  1.750000e+12   NaN\n",
       "6  14/07/2025 2025-07-14 13:45:27      1  1.750000e+12   NaN"
      ],
      "text/html": [
       "<div>\n",
       "<style scoped>\n",
       "    .dataframe tbody tr th:only-of-type {\n",
       "        vertical-align: middle;\n",
       "    }\n",
       "\n",
       "    .dataframe tbody tr th {\n",
       "        vertical-align: top;\n",
       "    }\n",
       "\n",
       "    .dataframe thead th {\n",
       "        text-align: right;\n",
       "    }\n",
       "</style>\n",
       "<table border=\"1\" class=\"dataframe\">\n",
       "  <thead>\n",
       "    <tr style=\"text-align: right;\">\n",
       "      <th></th>\n",
       "      <th>Date</th>\n",
       "      <th>Time</th>\n",
       "      <th>Value</th>\n",
       "      <th>Timestamp</th>\n",
       "      <th>Note</th>\n",
       "    </tr>\n",
       "  </thead>\n",
       "  <tbody>\n",
       "    <tr>\n",
       "      <th>0</th>\n",
       "      <td>14/07/2025</td>\n",
       "      <td>2025-07-14 13:50:57</td>\n",
       "      <td>1</td>\n",
       "      <td>1.750000e+12</td>\n",
       "      <td>NaN</td>\n",
       "    </tr>\n",
       "    <tr>\n",
       "      <th>1</th>\n",
       "      <td>14/07/2025</td>\n",
       "      <td>2025-07-14 13:50:13</td>\n",
       "      <td>-1</td>\n",
       "      <td>1.750000e+12</td>\n",
       "      <td>NaN</td>\n",
       "    </tr>\n",
       "    <tr>\n",
       "      <th>2</th>\n",
       "      <td>14/07/2025</td>\n",
       "      <td>2025-07-14 13:49:07</td>\n",
       "      <td>1</td>\n",
       "      <td>1.750000e+12</td>\n",
       "      <td>NaN</td>\n",
       "    </tr>\n",
       "    <tr>\n",
       "      <th>3</th>\n",
       "      <td>14/07/2025</td>\n",
       "      <td>2025-07-14 13:48:22</td>\n",
       "      <td>-1</td>\n",
       "      <td>1.750000e+12</td>\n",
       "      <td>NaN</td>\n",
       "    </tr>\n",
       "    <tr>\n",
       "      <th>4</th>\n",
       "      <td>14/07/2025</td>\n",
       "      <td>2025-07-14 13:47:17</td>\n",
       "      <td>1</td>\n",
       "      <td>1.750000e+12</td>\n",
       "      <td>NaN</td>\n",
       "    </tr>\n",
       "    <tr>\n",
       "      <th>5</th>\n",
       "      <td>14/07/2025</td>\n",
       "      <td>2025-07-14 13:46:32</td>\n",
       "      <td>-1</td>\n",
       "      <td>1.750000e+12</td>\n",
       "      <td>NaN</td>\n",
       "    </tr>\n",
       "    <tr>\n",
       "      <th>6</th>\n",
       "      <td>14/07/2025</td>\n",
       "      <td>2025-07-14 13:45:27</td>\n",
       "      <td>1</td>\n",
       "      <td>1.750000e+12</td>\n",
       "      <td>NaN</td>\n",
       "    </tr>\n",
       "  </tbody>\n",
       "</table>\n",
       "</div>"
      ]
     },
     "metadata": {},
     "output_type": "display_data"
    },
    {
     "name": "stdout",
     "output_type": "stream",
     "text": [
      "Weinsbergstr_2603639844 – Einträge: 5\n"
     ]
    },
    {
     "data": {
      "text/plain": [
       "         Date                Time  Value     Timestamp  Note\n",
       "0  14/07/2025 2025-07-14 13:57:21      1  1.750000e+12   NaN\n",
       "1  14/07/2025 2025-07-14 13:56:11     -1  1.750000e+12   NaN\n",
       "2  14/07/2025 2025-07-14 13:55:31      1  1.750000e+12   NaN\n",
       "3  14/07/2025 2025-07-14 13:54:21     -1  1.750000e+12   NaN\n",
       "4  14/07/2025 2025-07-14 13:53:41      1  1.750000e+12   NaN"
      ],
      "text/html": [
       "<div>\n",
       "<style scoped>\n",
       "    .dataframe tbody tr th:only-of-type {\n",
       "        vertical-align: middle;\n",
       "    }\n",
       "\n",
       "    .dataframe tbody tr th {\n",
       "        vertical-align: top;\n",
       "    }\n",
       "\n",
       "    .dataframe thead th {\n",
       "        text-align: right;\n",
       "    }\n",
       "</style>\n",
       "<table border=\"1\" class=\"dataframe\">\n",
       "  <thead>\n",
       "    <tr style=\"text-align: right;\">\n",
       "      <th></th>\n",
       "      <th>Date</th>\n",
       "      <th>Time</th>\n",
       "      <th>Value</th>\n",
       "      <th>Timestamp</th>\n",
       "      <th>Note</th>\n",
       "    </tr>\n",
       "  </thead>\n",
       "  <tbody>\n",
       "    <tr>\n",
       "      <th>0</th>\n",
       "      <td>14/07/2025</td>\n",
       "      <td>2025-07-14 13:57:21</td>\n",
       "      <td>1</td>\n",
       "      <td>1.750000e+12</td>\n",
       "      <td>NaN</td>\n",
       "    </tr>\n",
       "    <tr>\n",
       "      <th>1</th>\n",
       "      <td>14/07/2025</td>\n",
       "      <td>2025-07-14 13:56:11</td>\n",
       "      <td>-1</td>\n",
       "      <td>1.750000e+12</td>\n",
       "      <td>NaN</td>\n",
       "    </tr>\n",
       "    <tr>\n",
       "      <th>2</th>\n",
       "      <td>14/07/2025</td>\n",
       "      <td>2025-07-14 13:55:31</td>\n",
       "      <td>1</td>\n",
       "      <td>1.750000e+12</td>\n",
       "      <td>NaN</td>\n",
       "    </tr>\n",
       "    <tr>\n",
       "      <th>3</th>\n",
       "      <td>14/07/2025</td>\n",
       "      <td>2025-07-14 13:54:21</td>\n",
       "      <td>-1</td>\n",
       "      <td>1.750000e+12</td>\n",
       "      <td>NaN</td>\n",
       "    </tr>\n",
       "    <tr>\n",
       "      <th>4</th>\n",
       "      <td>14/07/2025</td>\n",
       "      <td>2025-07-14 13:53:41</td>\n",
       "      <td>1</td>\n",
       "      <td>1.750000e+12</td>\n",
       "      <td>NaN</td>\n",
       "    </tr>\n",
       "  </tbody>\n",
       "</table>\n",
       "</div>"
      ]
     },
     "metadata": {},
     "output_type": "display_data"
    }
   ],
   "execution_count": 17
  },
  {
   "metadata": {
    "ExecuteTime": {
     "end_time": "2025-07-14T12:30:50.669545Z",
     "start_time": "2025-07-14T12:30:50.646239Z"
    }
   },
   "cell_type": "code",
   "source": [
    "# %%\n",
    "phase_stats = {}\n",
    "\n",
    "for code, df in dfs.items():\n",
    "    ev = df[df['Value'] != 0].copy()\n",
    "    ev = ev.sort_values('Time').reset_index(drop=True)\n",
    "    \n",
    "    green = ev[ev['Value'] == +1]['Time'].reset_index(drop=True)\n",
    "    red   = ev[ev['Value'] == -1]['Time'].reset_index(drop=True)\n",
    "    \n",
    "    n = min(len(green), len(red))\n",
    "    green_cut = green.iloc[:n]\n",
    "    red_cut   = red.iloc[:n]\n",
    "    \n",
    "    # Grünphase: von grün_start bis rot_start\n",
    "    dur_green = (red_cut - green_cut).dt.total_seconds()\n",
    "\n",
    "    # Rotphase: von rot_start bis nächster grün_start (inkl. letzter!)\n",
    "    dur_red = (green.shift(-1) - red).dt.total_seconds().dropna()\n",
    "\n",
    "    stats = {\n",
    "        'mean_green_s': dur_green.mean(),\n",
    "        'std_green_s':  dur_green.std(),\n",
    "        'mean_red_s':   dur_red.mean(),\n",
    "        'std_red_s':    dur_red.std(),\n",
    "        'n_green_phases': len(dur_green),\n",
    "        'n_red_phases':   len(dur_red)\n",
    "    }\n",
    "    phase_stats[code] = stats\n",
    "\n",
    "stats_df = pd.DataFrame(phase_stats).T\n",
    "print(stats_df)\n"
   ],
   "id": "e6cedf5ff707cab4",
   "outputs": [
    {
     "name": "stdout",
     "output_type": "stream",
     "text": [
      "                         mean_green_s  std_green_s  mean_red_s  std_red_s  \\\n",
      "Venloer_4279001084          57.666667      0.57735   52.333333    0.57735   \n",
      "Vogelsanger_2107720091      65.333333      0.57735   44.666667    0.57735   \n",
      "Weinsbergstr_2603639844     40.000000      0.00000   70.000000    0.00000   \n",
      "\n",
      "                         n_green_phases  n_red_phases  \n",
      "Venloer_4279001084                  3.0           3.0  \n",
      "Vogelsanger_2107720091              3.0           3.0  \n",
      "Weinsbergstr_2603639844             2.0           2.0  \n"
     ]
    }
   ],
   "execution_count": 18
  },
  {
   "metadata": {
    "ExecuteTime": {
     "end_time": "2025-07-14T12:30:51.163392Z",
     "start_time": "2025-07-14T12:30:51.129328Z"
    }
   },
   "cell_type": "code",
   "source": [
    "\n",
    "# Liste zur Aufnahme aller Marker\n",
    "markers = []\n",
    "\n",
    "# Diskrete y-Positionen für jede Ampel\n",
    "ampel_ypos = {code: i for i, code in enumerate(dfs.keys())}\n",
    "\n",
    "for code, df in dfs.items():\n",
    "    df_sorted = df[df['Value'] != 0].sort_values(\"Time\")\n",
    "    y = ampel_ypos[code]\n",
    "    \n",
    "    # Grünswitches\n",
    "    green_df = df_sorted[df_sorted['Value'] == 1]\n",
    "    markers.append(go.Scatter(\n",
    "        x=green_df['Time'],\n",
    "        y=[y]*len(green_df),\n",
    "        mode='markers',\n",
    "        marker=dict(color='green', size=10),\n",
    "        name=f\"{code} – Grün\",\n",
    "        legendgroup=code,\n",
    "        showlegend=True\n",
    "    ))\n",
    "    \n",
    "    # Rotswitches\n",
    "    red_df = df_sorted[df_sorted['Value'] == -1]\n",
    "    markers.append(go.Scatter(\n",
    "        x=red_df['Time'],\n",
    "        y=[y]*len(red_df),\n",
    "        mode='markers',\n",
    "        marker=dict(color='red', size=10),\n",
    "        name=f\"{code} – Rot\",\n",
    "        legendgroup=code,\n",
    "        showlegend=True\n",
    "    ))\n",
    "\n",
    "# Plot zusammenbauen\n",
    "fig = go.Figure(data=markers)\n",
    "\n",
    "fig.update_layout(\n",
    "    title=\"Ampelphasen über Zeit\",\n",
    "    xaxis_title=\"Zeit\",\n",
    "    yaxis=dict(\n",
    "        tickvals=list(ampel_ypos.values()),\n",
    "        ticktext=list(ampel_ypos.keys()),\n",
    "        title=\"Ampel\",\n",
    "        autorange='reversed'  # optional, falls du Reihenfolge umdrehen willst\n",
    "    ),\n",
    "    height=50 + len(dfs)*100,\n",
    "    hovermode='closest'\n",
    ")\n",
    "\n",
    "fig.show()\n"
   ],
   "id": "425fcba63d7f9818",
   "outputs": [
    {
     "data": {
      "application/vnd.plotly.v1+json": {
       "data": [
        {
         "legendgroup": "Venloer_4279001084",
         "marker": {
          "color": "green",
          "size": 10
         },
         "mode": "markers",
         "name": "Venloer_4279001084 – Grün",
         "showlegend": true,
         "x": [
          "2025-07-14T13:38:01.000000000",
          "2025-07-14T13:39:52.000000000",
          "2025-07-14T13:41:41.000000000",
          "2025-07-14T13:43:31.000000000"
         ],
         "y": [
          0,
          0,
          0,
          0
         ],
         "type": "scatter"
        },
        {
         "legendgroup": "Venloer_4279001084",
         "marker": {
          "color": "red",
          "size": 10
         },
         "mode": "markers",
         "name": "Venloer_4279001084 – Rot",
         "showlegend": true,
         "x": [
          "2025-07-14T13:38:59.000000000",
          "2025-07-14T13:40:49.000000000",
          "2025-07-14T13:42:39.000000000"
         ],
         "y": [
          0,
          0,
          0
         ],
         "type": "scatter"
        },
        {
         "legendgroup": "Vogelsanger_2107720091",
         "marker": {
          "color": "green",
          "size": 10
         },
         "mode": "markers",
         "name": "Vogelsanger_2107720091 – Grün",
         "showlegend": true,
         "x": [
          "2025-07-14T13:45:27.000000000",
          "2025-07-14T13:47:17.000000000",
          "2025-07-14T13:49:07.000000000",
          "2025-07-14T13:50:57.000000000"
         ],
         "y": [
          1,
          1,
          1,
          1
         ],
         "type": "scatter"
        },
        {
         "legendgroup": "Vogelsanger_2107720091",
         "marker": {
          "color": "red",
          "size": 10
         },
         "mode": "markers",
         "name": "Vogelsanger_2107720091 – Rot",
         "showlegend": true,
         "x": [
          "2025-07-14T13:46:32.000000000",
          "2025-07-14T13:48:22.000000000",
          "2025-07-14T13:50:13.000000000"
         ],
         "y": [
          1,
          1,
          1
         ],
         "type": "scatter"
        },
        {
         "legendgroup": "Weinsbergstr_2603639844",
         "marker": {
          "color": "green",
          "size": 10
         },
         "mode": "markers",
         "name": "Weinsbergstr_2603639844 – Grün",
         "showlegend": true,
         "x": [
          "2025-07-14T13:53:41.000000000",
          "2025-07-14T13:55:31.000000000",
          "2025-07-14T13:57:21.000000000"
         ],
         "y": [
          2,
          2,
          2
         ],
         "type": "scatter"
        },
        {
         "legendgroup": "Weinsbergstr_2603639844",
         "marker": {
          "color": "red",
          "size": 10
         },
         "mode": "markers",
         "name": "Weinsbergstr_2603639844 – Rot",
         "showlegend": true,
         "x": [
          "2025-07-14T13:54:21.000000000",
          "2025-07-14T13:56:11.000000000"
         ],
         "y": [
          2,
          2
         ],
         "type": "scatter"
        }
       ],
       "layout": {
        "template": {
         "data": {
          "histogram2dcontour": [
           {
            "type": "histogram2dcontour",
            "colorbar": {
             "outlinewidth": 0,
             "ticks": ""
            },
            "colorscale": [
             [
              0.0,
              "#0d0887"
             ],
             [
              0.1111111111111111,
              "#46039f"
             ],
             [
              0.2222222222222222,
              "#7201a8"
             ],
             [
              0.3333333333333333,
              "#9c179e"
             ],
             [
              0.4444444444444444,
              "#bd3786"
             ],
             [
              0.5555555555555556,
              "#d8576b"
             ],
             [
              0.6666666666666666,
              "#ed7953"
             ],
             [
              0.7777777777777778,
              "#fb9f3a"
             ],
             [
              0.8888888888888888,
              "#fdca26"
             ],
             [
              1.0,
              "#f0f921"
             ]
            ]
           }
          ],
          "choropleth": [
           {
            "type": "choropleth",
            "colorbar": {
             "outlinewidth": 0,
             "ticks": ""
            }
           }
          ],
          "histogram2d": [
           {
            "type": "histogram2d",
            "colorbar": {
             "outlinewidth": 0,
             "ticks": ""
            },
            "colorscale": [
             [
              0.0,
              "#0d0887"
             ],
             [
              0.1111111111111111,
              "#46039f"
             ],
             [
              0.2222222222222222,
              "#7201a8"
             ],
             [
              0.3333333333333333,
              "#9c179e"
             ],
             [
              0.4444444444444444,
              "#bd3786"
             ],
             [
              0.5555555555555556,
              "#d8576b"
             ],
             [
              0.6666666666666666,
              "#ed7953"
             ],
             [
              0.7777777777777778,
              "#fb9f3a"
             ],
             [
              0.8888888888888888,
              "#fdca26"
             ],
             [
              1.0,
              "#f0f921"
             ]
            ]
           }
          ],
          "heatmap": [
           {
            "type": "heatmap",
            "colorbar": {
             "outlinewidth": 0,
             "ticks": ""
            },
            "colorscale": [
             [
              0.0,
              "#0d0887"
             ],
             [
              0.1111111111111111,
              "#46039f"
             ],
             [
              0.2222222222222222,
              "#7201a8"
             ],
             [
              0.3333333333333333,
              "#9c179e"
             ],
             [
              0.4444444444444444,
              "#bd3786"
             ],
             [
              0.5555555555555556,
              "#d8576b"
             ],
             [
              0.6666666666666666,
              "#ed7953"
             ],
             [
              0.7777777777777778,
              "#fb9f3a"
             ],
             [
              0.8888888888888888,
              "#fdca26"
             ],
             [
              1.0,
              "#f0f921"
             ]
            ]
           }
          ],
          "contourcarpet": [
           {
            "type": "contourcarpet",
            "colorbar": {
             "outlinewidth": 0,
             "ticks": ""
            }
           }
          ],
          "contour": [
           {
            "type": "contour",
            "colorbar": {
             "outlinewidth": 0,
             "ticks": ""
            },
            "colorscale": [
             [
              0.0,
              "#0d0887"
             ],
             [
              0.1111111111111111,
              "#46039f"
             ],
             [
              0.2222222222222222,
              "#7201a8"
             ],
             [
              0.3333333333333333,
              "#9c179e"
             ],
             [
              0.4444444444444444,
              "#bd3786"
             ],
             [
              0.5555555555555556,
              "#d8576b"
             ],
             [
              0.6666666666666666,
              "#ed7953"
             ],
             [
              0.7777777777777778,
              "#fb9f3a"
             ],
             [
              0.8888888888888888,
              "#fdca26"
             ],
             [
              1.0,
              "#f0f921"
             ]
            ]
           }
          ],
          "surface": [
           {
            "type": "surface",
            "colorbar": {
             "outlinewidth": 0,
             "ticks": ""
            },
            "colorscale": [
             [
              0.0,
              "#0d0887"
             ],
             [
              0.1111111111111111,
              "#46039f"
             ],
             [
              0.2222222222222222,
              "#7201a8"
             ],
             [
              0.3333333333333333,
              "#9c179e"
             ],
             [
              0.4444444444444444,
              "#bd3786"
             ],
             [
              0.5555555555555556,
              "#d8576b"
             ],
             [
              0.6666666666666666,
              "#ed7953"
             ],
             [
              0.7777777777777778,
              "#fb9f3a"
             ],
             [
              0.8888888888888888,
              "#fdca26"
             ],
             [
              1.0,
              "#f0f921"
             ]
            ]
           }
          ],
          "mesh3d": [
           {
            "type": "mesh3d",
            "colorbar": {
             "outlinewidth": 0,
             "ticks": ""
            }
           }
          ],
          "scatter": [
           {
            "fillpattern": {
             "fillmode": "overlay",
             "size": 10,
             "solidity": 0.2
            },
            "type": "scatter"
           }
          ],
          "parcoords": [
           {
            "type": "parcoords",
            "line": {
             "colorbar": {
              "outlinewidth": 0,
              "ticks": ""
             }
            }
           }
          ],
          "scatterpolargl": [
           {
            "type": "scatterpolargl",
            "marker": {
             "colorbar": {
              "outlinewidth": 0,
              "ticks": ""
             }
            }
           }
          ],
          "bar": [
           {
            "error_x": {
             "color": "#2a3f5f"
            },
            "error_y": {
             "color": "#2a3f5f"
            },
            "marker": {
             "line": {
              "color": "#E5ECF6",
              "width": 0.5
             },
             "pattern": {
              "fillmode": "overlay",
              "size": 10,
              "solidity": 0.2
             }
            },
            "type": "bar"
           }
          ],
          "scattergeo": [
           {
            "type": "scattergeo",
            "marker": {
             "colorbar": {
              "outlinewidth": 0,
              "ticks": ""
             }
            }
           }
          ],
          "scatterpolar": [
           {
            "type": "scatterpolar",
            "marker": {
             "colorbar": {
              "outlinewidth": 0,
              "ticks": ""
             }
            }
           }
          ],
          "histogram": [
           {
            "marker": {
             "pattern": {
              "fillmode": "overlay",
              "size": 10,
              "solidity": 0.2
             }
            },
            "type": "histogram"
           }
          ],
          "scattergl": [
           {
            "type": "scattergl",
            "marker": {
             "colorbar": {
              "outlinewidth": 0,
              "ticks": ""
             }
            }
           }
          ],
          "scatter3d": [
           {
            "type": "scatter3d",
            "line": {
             "colorbar": {
              "outlinewidth": 0,
              "ticks": ""
             }
            },
            "marker": {
             "colorbar": {
              "outlinewidth": 0,
              "ticks": ""
             }
            }
           }
          ],
          "scattermap": [
           {
            "type": "scattermap",
            "marker": {
             "colorbar": {
              "outlinewidth": 0,
              "ticks": ""
             }
            }
           }
          ],
          "scattermapbox": [
           {
            "type": "scattermapbox",
            "marker": {
             "colorbar": {
              "outlinewidth": 0,
              "ticks": ""
             }
            }
           }
          ],
          "scatterternary": [
           {
            "type": "scatterternary",
            "marker": {
             "colorbar": {
              "outlinewidth": 0,
              "ticks": ""
             }
            }
           }
          ],
          "scattercarpet": [
           {
            "type": "scattercarpet",
            "marker": {
             "colorbar": {
              "outlinewidth": 0,
              "ticks": ""
             }
            }
           }
          ],
          "carpet": [
           {
            "aaxis": {
             "endlinecolor": "#2a3f5f",
             "gridcolor": "white",
             "linecolor": "white",
             "minorgridcolor": "white",
             "startlinecolor": "#2a3f5f"
            },
            "baxis": {
             "endlinecolor": "#2a3f5f",
             "gridcolor": "white",
             "linecolor": "white",
             "minorgridcolor": "white",
             "startlinecolor": "#2a3f5f"
            },
            "type": "carpet"
           }
          ],
          "table": [
           {
            "cells": {
             "fill": {
              "color": "#EBF0F8"
             },
             "line": {
              "color": "white"
             }
            },
            "header": {
             "fill": {
              "color": "#C8D4E3"
             },
             "line": {
              "color": "white"
             }
            },
            "type": "table"
           }
          ],
          "barpolar": [
           {
            "marker": {
             "line": {
              "color": "#E5ECF6",
              "width": 0.5
             },
             "pattern": {
              "fillmode": "overlay",
              "size": 10,
              "solidity": 0.2
             }
            },
            "type": "barpolar"
           }
          ],
          "pie": [
           {
            "automargin": true,
            "type": "pie"
           }
          ]
         },
         "layout": {
          "autotypenumbers": "strict",
          "colorway": [
           "#636efa",
           "#EF553B",
           "#00cc96",
           "#ab63fa",
           "#FFA15A",
           "#19d3f3",
           "#FF6692",
           "#B6E880",
           "#FF97FF",
           "#FECB52"
          ],
          "font": {
           "color": "#2a3f5f"
          },
          "hovermode": "closest",
          "hoverlabel": {
           "align": "left"
          },
          "paper_bgcolor": "white",
          "plot_bgcolor": "#E5ECF6",
          "polar": {
           "bgcolor": "#E5ECF6",
           "angularaxis": {
            "gridcolor": "white",
            "linecolor": "white",
            "ticks": ""
           },
           "radialaxis": {
            "gridcolor": "white",
            "linecolor": "white",
            "ticks": ""
           }
          },
          "ternary": {
           "bgcolor": "#E5ECF6",
           "aaxis": {
            "gridcolor": "white",
            "linecolor": "white",
            "ticks": ""
           },
           "baxis": {
            "gridcolor": "white",
            "linecolor": "white",
            "ticks": ""
           },
           "caxis": {
            "gridcolor": "white",
            "linecolor": "white",
            "ticks": ""
           }
          },
          "coloraxis": {
           "colorbar": {
            "outlinewidth": 0,
            "ticks": ""
           }
          },
          "colorscale": {
           "sequential": [
            [
             0.0,
             "#0d0887"
            ],
            [
             0.1111111111111111,
             "#46039f"
            ],
            [
             0.2222222222222222,
             "#7201a8"
            ],
            [
             0.3333333333333333,
             "#9c179e"
            ],
            [
             0.4444444444444444,
             "#bd3786"
            ],
            [
             0.5555555555555556,
             "#d8576b"
            ],
            [
             0.6666666666666666,
             "#ed7953"
            ],
            [
             0.7777777777777778,
             "#fb9f3a"
            ],
            [
             0.8888888888888888,
             "#fdca26"
            ],
            [
             1.0,
             "#f0f921"
            ]
           ],
           "sequentialminus": [
            [
             0.0,
             "#0d0887"
            ],
            [
             0.1111111111111111,
             "#46039f"
            ],
            [
             0.2222222222222222,
             "#7201a8"
            ],
            [
             0.3333333333333333,
             "#9c179e"
            ],
            [
             0.4444444444444444,
             "#bd3786"
            ],
            [
             0.5555555555555556,
             "#d8576b"
            ],
            [
             0.6666666666666666,
             "#ed7953"
            ],
            [
             0.7777777777777778,
             "#fb9f3a"
            ],
            [
             0.8888888888888888,
             "#fdca26"
            ],
            [
             1.0,
             "#f0f921"
            ]
           ],
           "diverging": [
            [
             0,
             "#8e0152"
            ],
            [
             0.1,
             "#c51b7d"
            ],
            [
             0.2,
             "#de77ae"
            ],
            [
             0.3,
             "#f1b6da"
            ],
            [
             0.4,
             "#fde0ef"
            ],
            [
             0.5,
             "#f7f7f7"
            ],
            [
             0.6,
             "#e6f5d0"
            ],
            [
             0.7,
             "#b8e186"
            ],
            [
             0.8,
             "#7fbc41"
            ],
            [
             0.9,
             "#4d9221"
            ],
            [
             1,
             "#276419"
            ]
           ]
          },
          "xaxis": {
           "gridcolor": "white",
           "linecolor": "white",
           "ticks": "",
           "title": {
            "standoff": 15
           },
           "zerolinecolor": "white",
           "automargin": true,
           "zerolinewidth": 2
          },
          "yaxis": {
           "gridcolor": "white",
           "linecolor": "white",
           "ticks": "",
           "title": {
            "standoff": 15
           },
           "zerolinecolor": "white",
           "automargin": true,
           "zerolinewidth": 2
          },
          "scene": {
           "xaxis": {
            "backgroundcolor": "#E5ECF6",
            "gridcolor": "white",
            "linecolor": "white",
            "showbackground": true,
            "ticks": "",
            "zerolinecolor": "white",
            "gridwidth": 2
           },
           "yaxis": {
            "backgroundcolor": "#E5ECF6",
            "gridcolor": "white",
            "linecolor": "white",
            "showbackground": true,
            "ticks": "",
            "zerolinecolor": "white",
            "gridwidth": 2
           },
           "zaxis": {
            "backgroundcolor": "#E5ECF6",
            "gridcolor": "white",
            "linecolor": "white",
            "showbackground": true,
            "ticks": "",
            "zerolinecolor": "white",
            "gridwidth": 2
           }
          },
          "shapedefaults": {
           "line": {
            "color": "#2a3f5f"
           }
          },
          "annotationdefaults": {
           "arrowcolor": "#2a3f5f",
           "arrowhead": 0,
           "arrowwidth": 1
          },
          "geo": {
           "bgcolor": "white",
           "landcolor": "#E5ECF6",
           "subunitcolor": "white",
           "showland": true,
           "showlakes": true,
           "lakecolor": "white"
          },
          "title": {
           "x": 0.05
          },
          "mapbox": {
           "style": "light"
          }
         }
        },
        "yaxis": {
         "tickvals": [
          0,
          1,
          2
         ],
         "ticktext": [
          "Venloer_4279001084",
          "Vogelsanger_2107720091",
          "Weinsbergstr_2603639844"
         ],
         "title": {
          "text": "Ampel"
         },
         "autorange": "reversed"
        },
        "title": {
         "text": "Ampelphasen über Zeit"
        },
        "xaxis": {
         "title": {
          "text": "Zeit"
         }
        },
        "height": 350,
        "hovermode": "closest"
       },
       "config": {
        "plotlyServerURL": "https://plot.ly"
       }
      }
     },
     "metadata": {},
     "output_type": "display_data"
    }
   ],
   "execution_count": 19
  },
  {
   "metadata": {
    "ExecuteTime": {
     "end_time": "2025-07-14T12:30:51.390033Z",
     "start_time": "2025-07-14T12:30:51.334672Z"
    }
   },
   "cell_type": "code",
   "source": [
    "# %%\n",
    "import plotly.graph_objects as go\n",
    "from datetime import timedelta\n",
    "\n",
    "# Bekannter Zyklus\n",
    "cycle_length = 110  # Sekunden\n",
    "ref_code = \"Venloer_4279001084\"\n",
    "ref_times = dfs[ref_code][dfs[ref_code]['Value'] == 1]['Time'].reset_index(drop=True)\n",
    "t0 = ref_times.iloc[0]\n",
    "\n",
    "# Offsets berechnen wie zuvor (gegen t0)\n",
    "offset_seconds = {}\n",
    "for code, df in dfs.items():\n",
    "    if code == ref_code:\n",
    "        continue\n",
    "    gruen = df[df['Value'] == 1]['Time'].reset_index(drop=True)\n",
    "    offset = ((gruen - t0).dt.total_seconds() % cycle_length).mean()\n",
    "    offset_seconds[code] = offset\n",
    "\n",
    "# Marker-Vorbereitung\n",
    "shifted_markers = []\n",
    "\n",
    "ampel_ypos = {code: i for i, code in enumerate(dfs.keys())}\n",
    "\n",
    "for code, df in dfs.items():\n",
    "    df = df[df['Value'] != 0].copy()\n",
    "    df = df.sort_values(\"Time\").reset_index(drop=True)\n",
    "    y = ampel_ypos[code]\n",
    "    \n",
    "    if code == ref_code:\n",
    "        # keine Verschiebung\n",
    "        shifted_df = df.copy()\n",
    "    else:\n",
    "        first_gruen = df[df['Value'] == 1]['Time'].iloc[0]\n",
    "        offset_s = offset_seconds[code]\n",
    "        delta = (first_gruen - t0).total_seconds() - offset_s\n",
    "        shifted_df = df.copy()\n",
    "        shifted_df['Time'] = df['Time'] - timedelta(seconds=delta)\n",
    "\n",
    "    # Plot: Grün\n",
    "    green_df = shifted_df[shifted_df['Value'] == 1]\n",
    "    shifted_markers.append(go.Scatter(\n",
    "        x=green_df['Time'],\n",
    "        y=[y]*len(green_df),\n",
    "        mode='markers',\n",
    "        marker=dict(color='green', size=10),\n",
    "        name=f\"{code} – Grün\",\n",
    "        legendgroup=code,\n",
    "        showlegend=True\n",
    "    ))\n",
    "\n",
    "    # Plot: Rot\n",
    "    red_df = shifted_df[shifted_df['Value'] == -1]\n",
    "    shifted_markers.append(go.Scatter(\n",
    "        x=red_df['Time'],\n",
    "        y=[y]*len(red_df),\n",
    "        mode='markers',\n",
    "        marker=dict(color='red', size=10),\n",
    "        name=f\"{code} – Rot\",\n",
    "        legendgroup=code,\n",
    "        showlegend=True\n",
    "    ))\n",
    "\n",
    "# Plot anzeigen\n",
    "fig = go.Figure(data=shifted_markers)\n",
    "\n",
    "fig.update_layout(\n",
    "    title=\"Synchronisierte Ampelphasen nach Offset-Shift\",\n",
    "    xaxis_title=\"Zeit (verschoben in gemeinsamen Zyklus)\",\n",
    "    yaxis=dict(\n",
    "        tickvals=list(ampel_ypos.values()),\n",
    "        ticktext=list(ampel_ypos.keys()),\n",
    "        title=\"Ampel\"\n",
    "    ),\n",
    "    height=50 + len(dfs)*100,\n",
    "    hovermode='closest'\n",
    ")\n",
    "\n",
    "fig.show()\n"
   ],
   "id": "988f77e3edf8a466",
   "outputs": [
    {
     "data": {
      "application/vnd.plotly.v1+json": {
       "data": [
        {
         "legendgroup": "Venloer_4279001084",
         "marker": {
          "color": "green",
          "size": 10
         },
         "mode": "markers",
         "name": "Venloer_4279001084 – Grün",
         "showlegend": true,
         "x": [
          "2025-07-14T13:38:01.000000000",
          "2025-07-14T13:39:52.000000000",
          "2025-07-14T13:41:41.000000000",
          "2025-07-14T13:43:31.000000000"
         ],
         "y": [
          0,
          0,
          0,
          0
         ],
         "type": "scatter"
        },
        {
         "legendgroup": "Venloer_4279001084",
         "marker": {
          "color": "red",
          "size": 10
         },
         "mode": "markers",
         "name": "Venloer_4279001084 – Rot",
         "showlegend": true,
         "x": [
          "2025-07-14T13:38:59.000000000",
          "2025-07-14T13:40:49.000000000",
          "2025-07-14T13:42:39.000000000"
         ],
         "y": [
          0,
          0,
          0
         ],
         "type": "scatter"
        },
        {
         "legendgroup": "Vogelsanger_2107720091",
         "marker": {
          "color": "green",
          "size": 10
         },
         "mode": "markers",
         "name": "Vogelsanger_2107720091 – Grün",
         "showlegend": true,
         "x": [
          "2025-07-14T13:43:37.000000000",
          "2025-07-14T13:45:27.000000000",
          "2025-07-14T13:47:17.000000000",
          "2025-07-14T13:49:07.000000000"
         ],
         "y": [
          1,
          1,
          1,
          1
         ],
         "type": "scatter"
        },
        {
         "legendgroup": "Vogelsanger_2107720091",
         "marker": {
          "color": "red",
          "size": 10
         },
         "mode": "markers",
         "name": "Vogelsanger_2107720091 – Rot",
         "showlegend": true,
         "x": [
          "2025-07-14T13:44:42.000000000",
          "2025-07-14T13:46:32.000000000",
          "2025-07-14T13:48:23.000000000"
         ],
         "y": [
          1,
          1,
          1
         ],
         "type": "scatter"
        },
        {
         "legendgroup": "Weinsbergstr_2603639844",
         "marker": {
          "color": "green",
          "size": 10
         },
         "mode": "markers",
         "name": "Weinsbergstr_2603639844 – Grün",
         "showlegend": true,
         "x": [
          "2025-07-14T13:44:31.000000000",
          "2025-07-14T13:46:21.000000000",
          "2025-07-14T13:48:11.000000000"
         ],
         "y": [
          2,
          2,
          2
         ],
         "type": "scatter"
        },
        {
         "legendgroup": "Weinsbergstr_2603639844",
         "marker": {
          "color": "red",
          "size": 10
         },
         "mode": "markers",
         "name": "Weinsbergstr_2603639844 – Rot",
         "showlegend": true,
         "x": [
          "2025-07-14T13:45:11.000000000",
          "2025-07-14T13:47:01.000000000"
         ],
         "y": [
          2,
          2
         ],
         "type": "scatter"
        }
       ],
       "layout": {
        "template": {
         "data": {
          "histogram2dcontour": [
           {
            "type": "histogram2dcontour",
            "colorbar": {
             "outlinewidth": 0,
             "ticks": ""
            },
            "colorscale": [
             [
              0.0,
              "#0d0887"
             ],
             [
              0.1111111111111111,
              "#46039f"
             ],
             [
              0.2222222222222222,
              "#7201a8"
             ],
             [
              0.3333333333333333,
              "#9c179e"
             ],
             [
              0.4444444444444444,
              "#bd3786"
             ],
             [
              0.5555555555555556,
              "#d8576b"
             ],
             [
              0.6666666666666666,
              "#ed7953"
             ],
             [
              0.7777777777777778,
              "#fb9f3a"
             ],
             [
              0.8888888888888888,
              "#fdca26"
             ],
             [
              1.0,
              "#f0f921"
             ]
            ]
           }
          ],
          "choropleth": [
           {
            "type": "choropleth",
            "colorbar": {
             "outlinewidth": 0,
             "ticks": ""
            }
           }
          ],
          "histogram2d": [
           {
            "type": "histogram2d",
            "colorbar": {
             "outlinewidth": 0,
             "ticks": ""
            },
            "colorscale": [
             [
              0.0,
              "#0d0887"
             ],
             [
              0.1111111111111111,
              "#46039f"
             ],
             [
              0.2222222222222222,
              "#7201a8"
             ],
             [
              0.3333333333333333,
              "#9c179e"
             ],
             [
              0.4444444444444444,
              "#bd3786"
             ],
             [
              0.5555555555555556,
              "#d8576b"
             ],
             [
              0.6666666666666666,
              "#ed7953"
             ],
             [
              0.7777777777777778,
              "#fb9f3a"
             ],
             [
              0.8888888888888888,
              "#fdca26"
             ],
             [
              1.0,
              "#f0f921"
             ]
            ]
           }
          ],
          "heatmap": [
           {
            "type": "heatmap",
            "colorbar": {
             "outlinewidth": 0,
             "ticks": ""
            },
            "colorscale": [
             [
              0.0,
              "#0d0887"
             ],
             [
              0.1111111111111111,
              "#46039f"
             ],
             [
              0.2222222222222222,
              "#7201a8"
             ],
             [
              0.3333333333333333,
              "#9c179e"
             ],
             [
              0.4444444444444444,
              "#bd3786"
             ],
             [
              0.5555555555555556,
              "#d8576b"
             ],
             [
              0.6666666666666666,
              "#ed7953"
             ],
             [
              0.7777777777777778,
              "#fb9f3a"
             ],
             [
              0.8888888888888888,
              "#fdca26"
             ],
             [
              1.0,
              "#f0f921"
             ]
            ]
           }
          ],
          "contourcarpet": [
           {
            "type": "contourcarpet",
            "colorbar": {
             "outlinewidth": 0,
             "ticks": ""
            }
           }
          ],
          "contour": [
           {
            "type": "contour",
            "colorbar": {
             "outlinewidth": 0,
             "ticks": ""
            },
            "colorscale": [
             [
              0.0,
              "#0d0887"
             ],
             [
              0.1111111111111111,
              "#46039f"
             ],
             [
              0.2222222222222222,
              "#7201a8"
             ],
             [
              0.3333333333333333,
              "#9c179e"
             ],
             [
              0.4444444444444444,
              "#bd3786"
             ],
             [
              0.5555555555555556,
              "#d8576b"
             ],
             [
              0.6666666666666666,
              "#ed7953"
             ],
             [
              0.7777777777777778,
              "#fb9f3a"
             ],
             [
              0.8888888888888888,
              "#fdca26"
             ],
             [
              1.0,
              "#f0f921"
             ]
            ]
           }
          ],
          "surface": [
           {
            "type": "surface",
            "colorbar": {
             "outlinewidth": 0,
             "ticks": ""
            },
            "colorscale": [
             [
              0.0,
              "#0d0887"
             ],
             [
              0.1111111111111111,
              "#46039f"
             ],
             [
              0.2222222222222222,
              "#7201a8"
             ],
             [
              0.3333333333333333,
              "#9c179e"
             ],
             [
              0.4444444444444444,
              "#bd3786"
             ],
             [
              0.5555555555555556,
              "#d8576b"
             ],
             [
              0.6666666666666666,
              "#ed7953"
             ],
             [
              0.7777777777777778,
              "#fb9f3a"
             ],
             [
              0.8888888888888888,
              "#fdca26"
             ],
             [
              1.0,
              "#f0f921"
             ]
            ]
           }
          ],
          "mesh3d": [
           {
            "type": "mesh3d",
            "colorbar": {
             "outlinewidth": 0,
             "ticks": ""
            }
           }
          ],
          "scatter": [
           {
            "fillpattern": {
             "fillmode": "overlay",
             "size": 10,
             "solidity": 0.2
            },
            "type": "scatter"
           }
          ],
          "parcoords": [
           {
            "type": "parcoords",
            "line": {
             "colorbar": {
              "outlinewidth": 0,
              "ticks": ""
             }
            }
           }
          ],
          "scatterpolargl": [
           {
            "type": "scatterpolargl",
            "marker": {
             "colorbar": {
              "outlinewidth": 0,
              "ticks": ""
             }
            }
           }
          ],
          "bar": [
           {
            "error_x": {
             "color": "#2a3f5f"
            },
            "error_y": {
             "color": "#2a3f5f"
            },
            "marker": {
             "line": {
              "color": "#E5ECF6",
              "width": 0.5
             },
             "pattern": {
              "fillmode": "overlay",
              "size": 10,
              "solidity": 0.2
             }
            },
            "type": "bar"
           }
          ],
          "scattergeo": [
           {
            "type": "scattergeo",
            "marker": {
             "colorbar": {
              "outlinewidth": 0,
              "ticks": ""
             }
            }
           }
          ],
          "scatterpolar": [
           {
            "type": "scatterpolar",
            "marker": {
             "colorbar": {
              "outlinewidth": 0,
              "ticks": ""
             }
            }
           }
          ],
          "histogram": [
           {
            "marker": {
             "pattern": {
              "fillmode": "overlay",
              "size": 10,
              "solidity": 0.2
             }
            },
            "type": "histogram"
           }
          ],
          "scattergl": [
           {
            "type": "scattergl",
            "marker": {
             "colorbar": {
              "outlinewidth": 0,
              "ticks": ""
             }
            }
           }
          ],
          "scatter3d": [
           {
            "type": "scatter3d",
            "line": {
             "colorbar": {
              "outlinewidth": 0,
              "ticks": ""
             }
            },
            "marker": {
             "colorbar": {
              "outlinewidth": 0,
              "ticks": ""
             }
            }
           }
          ],
          "scattermap": [
           {
            "type": "scattermap",
            "marker": {
             "colorbar": {
              "outlinewidth": 0,
              "ticks": ""
             }
            }
           }
          ],
          "scattermapbox": [
           {
            "type": "scattermapbox",
            "marker": {
             "colorbar": {
              "outlinewidth": 0,
              "ticks": ""
             }
            }
           }
          ],
          "scatterternary": [
           {
            "type": "scatterternary",
            "marker": {
             "colorbar": {
              "outlinewidth": 0,
              "ticks": ""
             }
            }
           }
          ],
          "scattercarpet": [
           {
            "type": "scattercarpet",
            "marker": {
             "colorbar": {
              "outlinewidth": 0,
              "ticks": ""
             }
            }
           }
          ],
          "carpet": [
           {
            "aaxis": {
             "endlinecolor": "#2a3f5f",
             "gridcolor": "white",
             "linecolor": "white",
             "minorgridcolor": "white",
             "startlinecolor": "#2a3f5f"
            },
            "baxis": {
             "endlinecolor": "#2a3f5f",
             "gridcolor": "white",
             "linecolor": "white",
             "minorgridcolor": "white",
             "startlinecolor": "#2a3f5f"
            },
            "type": "carpet"
           }
          ],
          "table": [
           {
            "cells": {
             "fill": {
              "color": "#EBF0F8"
             },
             "line": {
              "color": "white"
             }
            },
            "header": {
             "fill": {
              "color": "#C8D4E3"
             },
             "line": {
              "color": "white"
             }
            },
            "type": "table"
           }
          ],
          "barpolar": [
           {
            "marker": {
             "line": {
              "color": "#E5ECF6",
              "width": 0.5
             },
             "pattern": {
              "fillmode": "overlay",
              "size": 10,
              "solidity": 0.2
             }
            },
            "type": "barpolar"
           }
          ],
          "pie": [
           {
            "automargin": true,
            "type": "pie"
           }
          ]
         },
         "layout": {
          "autotypenumbers": "strict",
          "colorway": [
           "#636efa",
           "#EF553B",
           "#00cc96",
           "#ab63fa",
           "#FFA15A",
           "#19d3f3",
           "#FF6692",
           "#B6E880",
           "#FF97FF",
           "#FECB52"
          ],
          "font": {
           "color": "#2a3f5f"
          },
          "hovermode": "closest",
          "hoverlabel": {
           "align": "left"
          },
          "paper_bgcolor": "white",
          "plot_bgcolor": "#E5ECF6",
          "polar": {
           "bgcolor": "#E5ECF6",
           "angularaxis": {
            "gridcolor": "white",
            "linecolor": "white",
            "ticks": ""
           },
           "radialaxis": {
            "gridcolor": "white",
            "linecolor": "white",
            "ticks": ""
           }
          },
          "ternary": {
           "bgcolor": "#E5ECF6",
           "aaxis": {
            "gridcolor": "white",
            "linecolor": "white",
            "ticks": ""
           },
           "baxis": {
            "gridcolor": "white",
            "linecolor": "white",
            "ticks": ""
           },
           "caxis": {
            "gridcolor": "white",
            "linecolor": "white",
            "ticks": ""
           }
          },
          "coloraxis": {
           "colorbar": {
            "outlinewidth": 0,
            "ticks": ""
           }
          },
          "colorscale": {
           "sequential": [
            [
             0.0,
             "#0d0887"
            ],
            [
             0.1111111111111111,
             "#46039f"
            ],
            [
             0.2222222222222222,
             "#7201a8"
            ],
            [
             0.3333333333333333,
             "#9c179e"
            ],
            [
             0.4444444444444444,
             "#bd3786"
            ],
            [
             0.5555555555555556,
             "#d8576b"
            ],
            [
             0.6666666666666666,
             "#ed7953"
            ],
            [
             0.7777777777777778,
             "#fb9f3a"
            ],
            [
             0.8888888888888888,
             "#fdca26"
            ],
            [
             1.0,
             "#f0f921"
            ]
           ],
           "sequentialminus": [
            [
             0.0,
             "#0d0887"
            ],
            [
             0.1111111111111111,
             "#46039f"
            ],
            [
             0.2222222222222222,
             "#7201a8"
            ],
            [
             0.3333333333333333,
             "#9c179e"
            ],
            [
             0.4444444444444444,
             "#bd3786"
            ],
            [
             0.5555555555555556,
             "#d8576b"
            ],
            [
             0.6666666666666666,
             "#ed7953"
            ],
            [
             0.7777777777777778,
             "#fb9f3a"
            ],
            [
             0.8888888888888888,
             "#fdca26"
            ],
            [
             1.0,
             "#f0f921"
            ]
           ],
           "diverging": [
            [
             0,
             "#8e0152"
            ],
            [
             0.1,
             "#c51b7d"
            ],
            [
             0.2,
             "#de77ae"
            ],
            [
             0.3,
             "#f1b6da"
            ],
            [
             0.4,
             "#fde0ef"
            ],
            [
             0.5,
             "#f7f7f7"
            ],
            [
             0.6,
             "#e6f5d0"
            ],
            [
             0.7,
             "#b8e186"
            ],
            [
             0.8,
             "#7fbc41"
            ],
            [
             0.9,
             "#4d9221"
            ],
            [
             1,
             "#276419"
            ]
           ]
          },
          "xaxis": {
           "gridcolor": "white",
           "linecolor": "white",
           "ticks": "",
           "title": {
            "standoff": 15
           },
           "zerolinecolor": "white",
           "automargin": true,
           "zerolinewidth": 2
          },
          "yaxis": {
           "gridcolor": "white",
           "linecolor": "white",
           "ticks": "",
           "title": {
            "standoff": 15
           },
           "zerolinecolor": "white",
           "automargin": true,
           "zerolinewidth": 2
          },
          "scene": {
           "xaxis": {
            "backgroundcolor": "#E5ECF6",
            "gridcolor": "white",
            "linecolor": "white",
            "showbackground": true,
            "ticks": "",
            "zerolinecolor": "white",
            "gridwidth": 2
           },
           "yaxis": {
            "backgroundcolor": "#E5ECF6",
            "gridcolor": "white",
            "linecolor": "white",
            "showbackground": true,
            "ticks": "",
            "zerolinecolor": "white",
            "gridwidth": 2
           },
           "zaxis": {
            "backgroundcolor": "#E5ECF6",
            "gridcolor": "white",
            "linecolor": "white",
            "showbackground": true,
            "ticks": "",
            "zerolinecolor": "white",
            "gridwidth": 2
           }
          },
          "shapedefaults": {
           "line": {
            "color": "#2a3f5f"
           }
          },
          "annotationdefaults": {
           "arrowcolor": "#2a3f5f",
           "arrowhead": 0,
           "arrowwidth": 1
          },
          "geo": {
           "bgcolor": "white",
           "landcolor": "#E5ECF6",
           "subunitcolor": "white",
           "showland": true,
           "showlakes": true,
           "lakecolor": "white"
          },
          "title": {
           "x": 0.05
          },
          "mapbox": {
           "style": "light"
          }
         }
        },
        "yaxis": {
         "tickvals": [
          0,
          1,
          2
         ],
         "ticktext": [
          "Venloer_4279001084",
          "Vogelsanger_2107720091",
          "Weinsbergstr_2603639844"
         ],
         "title": {
          "text": "Ampel"
         }
        },
        "title": {
         "text": "Synchronisierte Ampelphasen nach Offset-Shift"
        },
        "xaxis": {
         "title": {
          "text": "Zeit (verschoben in gemeinsamen Zyklus)"
         }
        },
        "height": 350,
        "hovermode": "closest"
       },
       "config": {
        "plotlyServerURL": "https://plot.ly"
       }
      }
     },
     "metadata": {},
     "output_type": "display_data"
    }
   ],
   "execution_count": 20
  },
  {
   "metadata": {
    "ExecuteTime": {
     "end_time": "2025-07-14T12:30:52.278945Z",
     "start_time": "2025-07-14T12:30:51.454705Z"
    }
   },
   "cell_type": "code",
   "source": [
    "# %%\n",
    "fig, axes = plt.subplots(len(dfs), 1, figsize=(12, 4*len(dfs)), sharex=False)\n",
    "\n",
    "for idx, (code, df) in enumerate(dfs.items()):\n",
    "    ev = df[df['Value'] != 0].sort_values('Time').reset_index(drop=True)\n",
    "    green_times = ev[ev['Value'] == 1]['Time'].reset_index(drop=True)\n",
    "    red_times   = ev[ev['Value'] == -1]['Time'].reset_index(drop=True)\n",
    "    n = min(len(green_times), len(red_times))\n",
    "    \n",
    "    dur_green = (red_times.iloc[:n] - green_times.iloc[:n]).dt.total_seconds()\n",
    "    dur_red = (green_times.shift(-1) - red_times).dt.total_seconds().dropna()\n",
    "\n",
    "\n",
    "    x_green = np.arange(len(dur_green))\n",
    "    x_red   = np.arange(len(dur_red))\n",
    "    \n",
    "    ax = axes[idx]\n",
    "    ax.scatter(x_green, dur_green, label='Grünphase', color='green', alpha=0.3)\n",
    "    ax.scatter(x_red,   dur_red,   label='Rotphase',  color='red',   alpha=0.3)\n",
    "    \n",
    "    ax.set_title(f\"{code} – Phasendauern je Zyklus\")\n",
    "    ax.set_xlabel(\"Zyklusindex\")\n",
    "    ax.set_ylabel(\"Phasendauer (s)\")\n",
    "    ax.set_ylim(15, 100)\n",
    "    \n",
    "    # Nur ganzzahlige x-Ticks und vertikale Gitterlinien\n",
    "    max_x = max(len(x_green), len(x_red))\n",
    "    ax.set_xticks(np.arange(0, max_x))\n",
    "    ax.grid(True, which='major', axis='x', linestyle='--', alpha=0.3)\n",
    "    ax.grid(True, which='major', axis='y', linestyle='-', alpha=0.5)\n",
    "    \n",
    "    ax.legend()\n",
    "\n",
    "plt.tight_layout()\n",
    "plt.show()\n"
   ],
   "id": "cca24556cd0daf2d",
   "outputs": [
    {
     "data": {
      "text/plain": [
       "<Figure size 1200x1200 with 3 Axes>"
      ],
      "image/png": "[encoded data removed]"
     },
     "metadata": {},
     "output_type": "display_data"
    }
   ],
   "execution_count": 21
  },
  {
   "metadata": {
    "ExecuteTime": {
     "end_time": "2025-07-14T12:30:52.331682Z",
     "start_time": "2025-07-14T12:30:52.319148Z"
    }
   },
   "cell_type": "code",
   "source": [
    "# %%\n",
    "cycle_length = 110  # Sekunden\n",
    "ref_code = \"Venloer_4279001084\"\n",
    "\n",
    "# Referenz-Grünstart-Zeitpunkt\n",
    "ref_times = dfs[ref_code][dfs[ref_code]['Value'] == 1]['Time'].reset_index(drop=True)\n",
    "t0 = ref_times.iloc[0]\n",
    "ref_offsets = ((ref_times - t0).dt.total_seconds() % cycle_length)\n",
    "\n",
    "offsets = {}\n",
    "\n",
    "for code, df in dfs.items():\n",
    "    if code == ref_code:\n",
    "        continue\n",
    "    times = df[df['Value'] == 1]['Time'].reset_index(drop=True)\n",
    "    t0_other = times.iloc[0]\n",
    "    other_offsets = ((times - t0).dt.total_seconds() % cycle_length)\n",
    "\n",
    "    # Jetzt Differenzen der zyklischen Offsets berechnen\n",
    "    # z. B. ref hat [5, 115, 225] → offset 5\n",
    "    # andere hat [10, 120, 230] → offset 10 o440, → Versatz = 5 s\n",
    "    diffs = (other_offsets - ref_offsets[:len(other_offsets)]) % cycle_length\n",
    "\n",
    "    offsets[code] = {\n",
    "        'mean_cycle_offset_s': np.mean(diffs),\n",
    "        'std_cycle_offset_s':  np.std(diffs),\n",
    "        'n_matched': len(diffs)\n",
    "    }\n",
    "\n",
    "pd.DataFrame(offsets).T\n"
   ],
   "id": "f8e48d25f86eb184",
   "outputs": [
    {
     "data": {
      "text/plain": [
       "                         mean_cycle_offset_s  std_cycle_offset_s  n_matched\n",
       "Vogelsanger_2107720091              5.750000            0.433013        4.0\n",
       "Weinsbergstr_2603639844            59.666667            0.471405        3.0"
      ],
      "text/html": [
       "<div>\n",
       "<style scoped>\n",
       "    .dataframe tbody tr th:only-of-type {\n",
       "        vertical-align: middle;\n",
       "    }\n",
       "\n",
       "    .dataframe tbody tr th {\n",
       "        vertical-align: top;\n",
       "    }\n",
       "\n",
       "    .dataframe thead th {\n",
       "        text-align: right;\n",
       "    }\n",
       "</style>\n",
       "<table border=\"1\" class=\"dataframe\">\n",
       "  <thead>\n",
       "    <tr style=\"text-align: right;\">\n",
       "      <th></th>\n",
       "      <th>mean_cycle_offset_s</th>\n",
       "      <th>std_cycle_offset_s</th>\n",
       "      <th>n_matched</th>\n",
       "    </tr>\n",
       "  </thead>\n",
       "  <tbody>\n",
       "    <tr>\n",
       "      <th>Vogelsanger_2107720091</th>\n",
       "      <td>5.750000</td>\n",
       "      <td>0.433013</td>\n",
       "      <td>4.0</td>\n",
       "    </tr>\n",
       "    <tr>\n",
       "      <th>Weinsbergstr_2603639844</th>\n",
       "      <td>59.666667</td>\n",
       "      <td>0.471405</td>\n",
       "      <td>3.0</td>\n",
       "    </tr>\n",
       "  </tbody>\n",
       "</table>\n",
       "</div>"
      ]
     },
     "execution_count": 22,
     "metadata": {},
     "output_type": "execute_result"
    }
   ],
   "execution_count": 22
  },
  {
   "metadata": {},
   "cell_type": "markdown",
   "source": [
    "---\n",
    "\n",
    "**Nächste Schritte / Interpretation:**\n",
    "- Aus `stats_df` erkennt man, wie konstant die Rot-/Grün-Dauern sind (Mittelwerte vs. Standardabweichung).\n",
    "- Die Histogramme zeigen eventuelle Ausreißer oder Mehrmodalitäten.\n",
    "- Die Offsets-Tabelle liefert, ob die Ampeln mit konstanter Zeitverschiebung zum Takt der Referenz-Ampel laufen.\n",
    "\n",
    "Je nach Ergebnis kann man tiefer in die Kreuzkorrelation gehen oder Zeitreihenplots erstellen, um Phasenbeziehungen dynamisch zu visualisieren.\n"
   ],
   "id": "8e5518cf47ee6fb6"
  }
 ],
 "metadata": {
  "kernelspec": {
   "display_name": "Python 3",
   "language": "python",
   "name": "python3"
  },
  "language_info": {
   "codemirror_mode": {
    "name": "ipython",
    "version": 2
   },
   "file_extension": ".py",
   "mimetype": "text/x-python",
   "name": "python",
   "nbconvert_exporter": "python",
   "pygments_lexer": "ipython2",
   "version": "2.7.6"
  }
 },
 "nbformat": 4,
 "nbformat_minor": 5
}
