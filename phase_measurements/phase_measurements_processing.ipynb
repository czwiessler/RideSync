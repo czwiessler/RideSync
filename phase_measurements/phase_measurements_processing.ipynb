{
 "cells": [
  {
   "metadata": {
    "ExecuteTime": {
     "end_time": "2025-07-11T12:12:46.122861Z",
     "start_time": "2025-07-11T12:12:46.101083Z"
    }
   },
   "cell_type": "code",
   "source": [
    "# %% \n",
    "import pandas as pd\n",
    "import numpy as np\n",
    "import matplotlib.pyplot as plt\n",
    "from pathlib import Path\n",
    "import plotly.graph_objects as go\n",
    "\n",
    "# Anzeigeeinstellungen\n",
    "pd.set_option('display.max_rows', 10)\n",
    "plt.rcParams['figure.figsize'] = (10, 5)\n"
   ],
   "id": "62d3d6be1f4e6923",
   "outputs": [],
   "execution_count": 48
  },
  {
   "cell_type": "code",
   "id": "initial_id",
   "metadata": {
    "collapsed": true
   },
   "source": [
    "# %%\n",
    "# Verzeichnis und Filenamen\n",
    "data_dir = Path(r\"C:\\Users\\malte\\PycharmProjects\\RideSync\\phase_measurements\")\n",
    "files = [\n",
    "    \"Venloer_4279001084.csv\",\n",
    "    \"Vogelsanger_2107720091.csv\",\n",
    "    \"Weinsbergstr_2603639844.csv\",\n",
    "    \"Hollar_8546960460.csv\",\n",
    "    \"Aachener_750549269.csv\"\n",
    "]\n",
    "\n",
    "# Alle Daten in Dict von DataFrames laden\n",
    "dfs = {}\n",
    "for fn in files:\n",
    "    code = fn.split(\".\")[0]  # z.B. \"Venloer_4279001084\"\n",
    "    path = data_dir / fn\n",
    "    df = pd.read_csv(path, sep=\",\")\n",
    "    # Timestamp parsen\n",
    "    df['Time'] = pd.to_datetime(df['Time'])\n",
    "    dfs[code] = df\n",
    "\n",
    "# Kurzer Blick\n",
    "for code, df in dfs.items():\n",
    "    print(code, \"– Einträge:\", len(df))\n",
    "    display(df.head(15))\n"
   ],
   "outputs": [],
   "execution_count": null
  },
  {
   "metadata": {
    "ExecuteTime": {
     "end_time": "2025-07-11T10:18:41.580443Z",
     "start_time": "2025-07-11T10:18:41.553387Z"
    }
   },
   "cell_type": "code",
   "source": [
    "# %%\n",
    "phase_stats = {}\n",
    "\n",
    "for code, df in dfs.items():\n",
    "    ev = df[df['Value'] != 0].copy()\n",
    "    ev = ev.sort_values('Time').reset_index(drop=True)\n",
    "    \n",
    "    green = ev[ev['Value'] == +1]['Time'].reset_index(drop=True)\n",
    "    red   = ev[ev['Value'] == -1]['Time'].reset_index(drop=True)\n",
    "    \n",
    "    n = min(len(green), len(red))\n",
    "    green_cut = green.iloc[:n]\n",
    "    red_cut   = red.iloc[:n]\n",
    "    \n",
    "    # Grünphase: von grün_start bis rot_start\n",
    "    dur_green = (red_cut - green_cut).dt.total_seconds()\n",
    "\n",
    "    # Rotphase: von rot_start bis nächster grün_start (inkl. letzter!)\n",
    "    dur_red = (green.shift(-1) - red).dt.total_seconds().dropna()\n",
    "\n",
    "    stats = {\n",
    "        'mean_green_s': dur_green.mean(),\n",
    "        'std_green_s':  dur_green.std(),\n",
    "        'mean_red_s':   dur_red.mean(),\n",
    "        'std_red_s':    dur_red.std(),\n",
    "        'n_green_phases': len(dur_green),\n",
    "        'n_red_phases':   len(dur_red)\n",
    "    }\n",
    "    phase_stats[code] = stats\n",
    "\n",
    "stats_df = pd.DataFrame(phase_stats).T\n",
    "stats_df\n"
   ],
   "id": "e6cedf5ff707cab4",
   "outputs": [
    {
     "data": {
      "text/plain": [
       "                         mean_green_s  std_green_s  mean_red_s  std_red_s  \\\n",
       "Venloer_4279001084              64.80     8.167007   46.000000   6.855655   \n",
       "Vogelsanger_2107720091          56.00     0.000000   54.333333   0.577350   \n",
       "Weinsbergstr_2603639844         39.40     1.341641   70.600000   2.607681   \n",
       "Hollar_8546960460               89.50     5.686241   20.250000   3.095696   \n",
       "Aachener_750549269              54.75     1.707825   55.750000   1.892969   \n",
       "\n",
       "                         n_green_phases  n_red_phases  \n",
       "Venloer_4279001084                  5.0           5.0  \n",
       "Vogelsanger_2107720091              3.0           3.0  \n",
       "Weinsbergstr_2603639844             5.0           5.0  \n",
       "Hollar_8546960460                   4.0           4.0  \n",
       "Aachener_750549269                  4.0           4.0  "
      ],
      "text/html": [
       "<div>\n",
       "<style scoped>\n",
       "    .dataframe tbody tr th:only-of-type {\n",
       "        vertical-align: middle;\n",
       "    }\n",
       "\n",
       "    .dataframe tbody tr th {\n",
       "        vertical-align: top;\n",
       "    }\n",
       "\n",
       "    .dataframe thead th {\n",
       "        text-align: right;\n",
       "    }\n",
       "</style>\n",
       "<table border=\"1\" class=\"dataframe\">\n",
       "  <thead>\n",
       "    <tr style=\"text-align: right;\">\n",
       "      <th></th>\n",
       "      <th>mean_green_s</th>\n",
       "      <th>std_green_s</th>\n",
       "      <th>mean_red_s</th>\n",
       "      <th>std_red_s</th>\n",
       "      <th>n_green_phases</th>\n",
       "      <th>n_red_phases</th>\n",
       "    </tr>\n",
       "  </thead>\n",
       "  <tbody>\n",
       "    <tr>\n",
       "      <th>Venloer_4279001084</th>\n",
       "      <td>64.80</td>\n",
       "      <td>8.167007</td>\n",
       "      <td>46.000000</td>\n",
       "      <td>6.855655</td>\n",
       "      <td>5.0</td>\n",
       "      <td>5.0</td>\n",
       "    </tr>\n",
       "    <tr>\n",
       "      <th>Vogelsanger_2107720091</th>\n",
       "      <td>56.00</td>\n",
       "      <td>0.000000</td>\n",
       "      <td>54.333333</td>\n",
       "      <td>0.577350</td>\n",
       "      <td>3.0</td>\n",
       "      <td>3.0</td>\n",
       "    </tr>\n",
       "    <tr>\n",
       "      <th>Weinsbergstr_2603639844</th>\n",
       "      <td>39.40</td>\n",
       "      <td>1.341641</td>\n",
       "      <td>70.600000</td>\n",
       "      <td>2.607681</td>\n",
       "      <td>5.0</td>\n",
       "      <td>5.0</td>\n",
       "    </tr>\n",
       "    <tr>\n",
       "      <th>Hollar_8546960460</th>\n",
       "      <td>89.50</td>\n",
       "      <td>5.686241</td>\n",
       "      <td>20.250000</td>\n",
       "      <td>3.095696</td>\n",
       "      <td>4.0</td>\n",
       "      <td>4.0</td>\n",
       "    </tr>\n",
       "    <tr>\n",
       "      <th>Aachener_750549269</th>\n",
       "      <td>54.75</td>\n",
       "      <td>1.707825</td>\n",
       "      <td>55.750000</td>\n",
       "      <td>1.892969</td>\n",
       "      <td>4.0</td>\n",
       "      <td>4.0</td>\n",
       "    </tr>\n",
       "  </tbody>\n",
       "</table>\n",
       "</div>"
      ]
     },
     "execution_count": 33,
     "metadata": {},
     "output_type": "execute_result"
    }
   ],
   "execution_count": 33
  },
  {
   "metadata": {
    "ExecuteTime": {
     "end_time": "2025-07-11T12:12:49.345346Z",
     "start_time": "2025-07-11T12:12:48.362125Z"
    }
   },
   "cell_type": "code",
   "source": [
    "\n",
    "# Liste zur Aufnahme aller Marker\n",
    "markers = []\n",
    "\n",
    "# Diskrete y-Positionen für jede Ampel\n",
    "ampel_ypos = {code: i for i, code in enumerate(dfs.keys())}\n",
    "\n",
    "for code, df in dfs.items():\n",
    "    df_sorted = df[df['Value'] != 0].sort_values(\"Time\")\n",
    "    y = ampel_ypos[code]\n",
    "    \n",
    "    # Grünswitches\n",
    "    green_df = df_sorted[df_sorted['Value'] == 1]\n",
    "    markers.append(go.Scatter(\n",
    "        x=green_df['Time'],\n",
    "        y=[y]*len(green_df),\n",
    "        mode='markers',\n",
    "        marker=dict(color='green', size=10),\n",
    "        name=f\"{code} – Grün\",\n",
    "        legendgroup=code,\n",
    "        showlegend=True\n",
    "    ))\n",
    "    \n",
    "    # Rotswitches\n",
    "    red_df = df_sorted[df_sorted['Value'] == -1]\n",
    "    markers.append(go.Scatter(\n",
    "        x=red_df['Time'],\n",
    "        y=[y]*len(red_df),\n",
    "        mode='markers',\n",
    "        marker=dict(color='red', size=10),\n",
    "        name=f\"{code} – Rot\",\n",
    "        legendgroup=code,\n",
    "        showlegend=True\n",
    "    ))\n",
    "\n",
    "# Plot zusammenbauen\n",
    "fig = go.Figure(data=markers)\n",
    "\n",
    "fig.update_layout(\n",
    "    title=\"Ampelphasen über Zeit\",\n",
    "    xaxis_title=\"Zeit\",\n",
    "    yaxis=dict(\n",
    "        tickvals=list(ampel_ypos.values()),\n",
    "        ticktext=list(ampel_ypos.keys()),\n",
    "        title=\"Ampel\",\n",
    "        autorange='reversed'  # optional, falls du Reihenfolge umdrehen willst\n",
    "    ),\n",
    "    height=50 + len(dfs)*100,\n",
    "    hovermode='closest'\n",
    ")\n",
    "\n",
    "fig.show()\n"
   ],
   "id": "425fcba63d7f9818",
   "outputs": [
    {
     "data": {
      "application/vnd.plotly.v1+json": {
       "data": [
        {
         "legendgroup": "Venloer_4279001084",
         "marker": {
          "color": "green",
          "size": 10
         },
         "mode": "markers",
         "name": "Venloer_4279001084 – Grün",
         "showlegend": true,
         "x": [
          "2025-07-11T09:40:21.000000000",
          "2025-07-11T09:42:10.000000000",
          "2025-07-11T09:44:01.000000000",
          "2025-07-11T09:45:51.000000000",
          "2025-07-11T09:47:41.000000000",
          "2025-07-11T09:49:35.000000000"
         ],
         "y": [
          0,
          0,
          0,
          0,
          0,
          0
         ],
         "type": "scatter"
        },
        {
         "legendgroup": "Venloer_4279001084",
         "marker": {
          "color": "red",
          "size": 10
         },
         "mode": "markers",
         "name": "Venloer_4279001084 – Rot",
         "showlegend": true,
         "x": [
          "2025-07-11T09:41:21.000000000",
          "2025-07-11T09:43:24.000000000",
          "2025-07-11T09:45:02.000000000",
          "2025-07-11T09:46:47.000000000",
          "2025-07-11T09:48:54.000000000"
         ],
         "y": [
          0,
          0,
          0,
          0,
          0
         ],
         "type": "scatter"
        },
        {
         "legendgroup": "Vogelsanger_2107720091",
         "marker": {
          "color": "green",
          "size": 10
         },
         "mode": "markers",
         "name": "Vogelsanger_2107720091 – Grün",
         "showlegend": true,
         "x": [
          "2025-07-11T09:51:38.000000000",
          "2025-07-11T09:53:28.000000000",
          "2025-07-11T09:55:18.000000000",
          "2025-07-11T09:57:09.000000000"
         ],
         "y": [
          1,
          1,
          1,
          1
         ],
         "type": "scatter"
        },
        {
         "legendgroup": "Vogelsanger_2107720091",
         "marker": {
          "color": "red",
          "size": 10
         },
         "mode": "markers",
         "name": "Vogelsanger_2107720091 – Rot",
         "showlegend": true,
         "x": [
          "2025-07-11T09:52:34.000000000",
          "2025-07-11T09:54:24.000000000",
          "2025-07-11T09:56:14.000000000"
         ],
         "y": [
          1,
          1,
          1
         ],
         "type": "scatter"
        },
        {
         "legendgroup": "Weinsbergstr_2603639844",
         "marker": {
          "color": "green",
          "size": 10
         },
         "mode": "markers",
         "name": "Weinsbergstr_2603639844 – Grün",
         "showlegend": true,
         "x": [
          "2025-07-11T09:59:40.000000000",
          "2025-07-11T10:01:35.000000000",
          "2025-07-11T10:03:20.000000000",
          "2025-07-11T10:05:10.000000000",
          "2025-07-11T10:07:00.000000000",
          "2025-07-11T10:08:50.000000000"
         ],
         "y": [
          2,
          2,
          2,
          2,
          2,
          2
         ],
         "type": "scatter"
        },
        {
         "legendgroup": "Weinsbergstr_2603639844",
         "marker": {
          "color": "red",
          "size": 10
         },
         "mode": "markers",
         "name": "Weinsbergstr_2603639844 – Rot",
         "showlegend": true,
         "x": [
          "2025-07-11T10:00:20.000000000",
          "2025-07-11T10:02:12.000000000",
          "2025-07-11T10:04:00.000000000",
          "2025-07-11T10:05:50.000000000",
          "2025-07-11T10:07:40.000000000"
         ],
         "y": [
          2,
          2,
          2,
          2,
          2
         ],
         "type": "scatter"
        },
        {
         "legendgroup": "Hollar_8546960460",
         "marker": {
          "color": "green",
          "size": 10
         },
         "mode": "markers",
         "name": "Hollar_8546960460 – Grün",
         "showlegend": true,
         "x": [
          "2025-07-11T10:12:04.000000000",
          "2025-07-11T10:13:53.000000000",
          "2025-07-11T10:15:40.000000000",
          "2025-07-11T10:17:34.000000000",
          "2025-07-11T10:19:23.000000000"
         ],
         "y": [
          3,
          3,
          3,
          3,
          3
         ],
         "type": "scatter"
        },
        {
         "legendgroup": "Hollar_8546960460",
         "marker": {
          "color": "red",
          "size": 10
         },
         "mode": "markers",
         "name": "Hollar_8546960460 – Rot",
         "showlegend": true,
         "x": [
          "2025-07-11T10:13:31.000000000",
          "2025-07-11T10:15:20.000000000",
          "2025-07-11T10:17:18.000000000",
          "2025-07-11T10:19:00.000000000"
         ],
         "y": [
          3,
          3,
          3,
          3
         ],
         "type": "scatter"
        },
        {
         "legendgroup": "Aachener_750549269",
         "marker": {
          "color": "green",
          "size": 10
         },
         "mode": "markers",
         "name": "Aachener_750549269 – Grün",
         "showlegend": true,
         "x": [
          "2025-07-11T10:21:45.000000000",
          "2025-07-11T10:23:36.000000000",
          "2025-07-11T10:25:23.000000000",
          "2025-07-11T10:27:17.000000000",
          "2025-07-11T10:29:07.000000000"
         ],
         "y": [
          4,
          4,
          4,
          4,
          4
         ],
         "type": "scatter"
        },
        {
         "legendgroup": "Aachener_750549269",
         "marker": {
          "color": "red",
          "size": 10
         },
         "mode": "markers",
         "name": "Aachener_750549269 – Rot",
         "showlegend": true,
         "x": [
          "2025-07-11T10:22:40.000000000",
          "2025-07-11T10:24:30.000000000",
          "2025-07-11T10:26:20.000000000",
          "2025-07-11T10:28:10.000000000"
         ],
         "y": [
          4,
          4,
          4,
          4
         ],
         "type": "scatter"
        }
       ],
       "layout": {
        "template": {
         "data": {
          "histogram2dcontour": [
           {
            "type": "histogram2dcontour",
            "colorbar": {
             "outlinewidth": 0,
             "ticks": ""
            },
            "colorscale": [
             [
              0.0,
              "#0d0887"
             ],
             [
              0.1111111111111111,
              "#46039f"
             ],
             [
              0.2222222222222222,
              "#7201a8"
             ],
             [
              0.3333333333333333,
              "#9c179e"
             ],
             [
              0.4444444444444444,
              "#bd3786"
             ],
             [
              0.5555555555555556,
              "#d8576b"
             ],
             [
              0.6666666666666666,
              "#ed7953"
             ],
             [
              0.7777777777777778,
              "#fb9f3a"
             ],
             [
              0.8888888888888888,
              "#fdca26"
             ],
             [
              1.0,
              "#f0f921"
             ]
            ]
           }
          ],
          "choropleth": [
           {
            "type": "choropleth",
            "colorbar": {
             "outlinewidth": 0,
             "ticks": ""
            }
           }
          ],
          "histogram2d": [
           {
            "type": "histogram2d",
            "colorbar": {
             "outlinewidth": 0,
             "ticks": ""
            },
            "colorscale": [
             [
              0.0,
              "#0d0887"
             ],
             [
              0.1111111111111111,
              "#46039f"
             ],
             [
              0.2222222222222222,
              "#7201a8"
             ],
             [
              0.3333333333333333,
              "#9c179e"
             ],
             [
              0.4444444444444444,
              "#bd3786"
             ],
             [
              0.5555555555555556,
              "#d8576b"
             ],
             [
              0.6666666666666666,
              "#ed7953"
             ],
             [
              0.7777777777777778,
              "#fb9f3a"
             ],
             [
              0.8888888888888888,
              "#fdca26"
             ],
             [
              1.0,
              "#f0f921"
             ]
            ]
           }
          ],
          "heatmap": [
           {
            "type": "heatmap",
            "colorbar": {
             "outlinewidth": 0,
             "ticks": ""
            },
            "colorscale": [
             [
              0.0,
              "#0d0887"
             ],
             [
              0.1111111111111111,
              "#46039f"
             ],
             [
              0.2222222222222222,
              "#7201a8"
             ],
             [
              0.3333333333333333,
              "#9c179e"
             ],
             [
              0.4444444444444444,
              "#bd3786"
             ],
             [
              0.5555555555555556,
              "#d8576b"
             ],
             [
              0.6666666666666666,
              "#ed7953"
             ],
             [
              0.7777777777777778,
              "#fb9f3a"
             ],
             [
              0.8888888888888888,
              "#fdca26"
             ],
             [
              1.0,
              "#f0f921"
             ]
            ]
           }
          ],
          "contourcarpet": [
           {
            "type": "contourcarpet",
            "colorbar": {
             "outlinewidth": 0,
             "ticks": ""
            }
           }
          ],
          "contour": [
           {
            "type": "contour",
            "colorbar": {
             "outlinewidth": 0,
             "ticks": ""
            },
            "colorscale": [
             [
              0.0,
              "#0d0887"
             ],
             [
              0.1111111111111111,
              "#46039f"
             ],
             [
              0.2222222222222222,
              "#7201a8"
             ],
             [
              0.3333333333333333,
              "#9c179e"
             ],
             [
              0.4444444444444444,
              "#bd3786"
             ],
             [
              0.5555555555555556,
              "#d8576b"
             ],
             [
              0.6666666666666666,
              "#ed7953"
             ],
             [
              0.7777777777777778,
              "#fb9f3a"
             ],
             [
              0.8888888888888888,
              "#fdca26"
             ],
             [
              1.0,
              "#f0f921"
             ]
            ]
           }
          ],
          "surface": [
           {
            "type": "surface",
            "colorbar": {
             "outlinewidth": 0,
             "ticks": ""
            },
            "colorscale": [
             [
              0.0,
              "#0d0887"
             ],
             [
              0.1111111111111111,
              "#46039f"
             ],
             [
              0.2222222222222222,
              "#7201a8"
             ],
             [
              0.3333333333333333,
              "#9c179e"
             ],
             [
              0.4444444444444444,
              "#bd3786"
             ],
             [
              0.5555555555555556,
              "#d8576b"
             ],
             [
              0.6666666666666666,
              "#ed7953"
             ],
             [
              0.7777777777777778,
              "#fb9f3a"
             ],
             [
              0.8888888888888888,
              "#fdca26"
             ],
             [
              1.0,
              "#f0f921"
             ]
            ]
           }
          ],
          "mesh3d": [
           {
            "type": "mesh3d",
            "colorbar": {
             "outlinewidth": 0,
             "ticks": ""
            }
           }
          ],
          "scatter": [
           {
            "fillpattern": {
             "fillmode": "overlay",
             "size": 10,
             "solidity": 0.2
            },
            "type": "scatter"
           }
          ],
          "parcoords": [
           {
            "type": "parcoords",
            "line": {
             "colorbar": {
              "outlinewidth": 0,
              "ticks": ""
             }
            }
           }
          ],
          "scatterpolargl": [
           {
            "type": "scatterpolargl",
            "marker": {
             "colorbar": {
              "outlinewidth": 0,
              "ticks": ""
             }
            }
           }
          ],
          "bar": [
           {
            "error_x": {
             "color": "#2a3f5f"
            },
            "error_y": {
             "color": "#2a3f5f"
            },
            "marker": {
             "line": {
              "color": "#E5ECF6",
              "width": 0.5
             },
             "pattern": {
              "fillmode": "overlay",
              "size": 10,
              "solidity": 0.2
             }
            },
            "type": "bar"
           }
          ],
          "scattergeo": [
           {
            "type": "scattergeo",
            "marker": {
             "colorbar": {
              "outlinewidth": 0,
              "ticks": ""
             }
            }
           }
          ],
          "scatterpolar": [
           {
            "type": "scatterpolar",
            "marker": {
             "colorbar": {
              "outlinewidth": 0,
              "ticks": ""
             }
            }
           }
          ],
          "histogram": [
           {
            "marker": {
             "pattern": {
              "fillmode": "overlay",
              "size": 10,
              "solidity": 0.2
             }
            },
            "type": "histogram"
           }
          ],
          "scattergl": [
           {
            "type": "scattergl",
            "marker": {
             "colorbar": {
              "outlinewidth": 0,
              "ticks": ""
             }
            }
           }
          ],
          "scatter3d": [
           {
            "type": "scatter3d",
            "line": {
             "colorbar": {
              "outlinewidth": 0,
              "ticks": ""
             }
            },
            "marker": {
             "colorbar": {
              "outlinewidth": 0,
              "ticks": ""
             }
            }
           }
          ],
          "scattermap": [
           {
            "type": "scattermap",
            "marker": {
             "colorbar": {
              "outlinewidth": 0,
              "ticks": ""
             }
            }
           }
          ],
          "scattermapbox": [
           {
            "type": "scattermapbox",
            "marker": {
             "colorbar": {
              "outlinewidth": 0,
              "ticks": ""
             }
            }
           }
          ],
          "scatterternary": [
           {
            "type": "scatterternary",
            "marker": {
             "colorbar": {
              "outlinewidth": 0,
              "ticks": ""
             }
            }
           }
          ],
          "scattercarpet": [
           {
            "type": "scattercarpet",
            "marker": {
             "colorbar": {
              "outlinewidth": 0,
              "ticks": ""
             }
            }
           }
          ],
          "carpet": [
           {
            "aaxis": {
             "endlinecolor": "#2a3f5f",
             "gridcolor": "white",
             "linecolor": "white",
             "minorgridcolor": "white",
             "startlinecolor": "#2a3f5f"
            },
            "baxis": {
             "endlinecolor": "#2a3f5f",
             "gridcolor": "white",
             "linecolor": "white",
             "minorgridcolor": "white",
             "startlinecolor": "#2a3f5f"
            },
            "type": "carpet"
           }
          ],
          "table": [
           {
            "cells": {
             "fill": {
              "color": "#EBF0F8"
             },
             "line": {
              "color": "white"
             }
            },
            "header": {
             "fill": {
              "color": "#C8D4E3"
             },
             "line": {
              "color": "white"
             }
            },
            "type": "table"
           }
          ],
          "barpolar": [
           {
            "marker": {
             "line": {
              "color": "#E5ECF6",
              "width": 0.5
             },
             "pattern": {
              "fillmode": "overlay",
              "size": 10,
              "solidity": 0.2
             }
            },
            "type": "barpolar"
           }
          ],
          "pie": [
           {
            "automargin": true,
            "type": "pie"
           }
          ]
         },
         "layout": {
          "autotypenumbers": "strict",
          "colorway": [
           "#636efa",
           "#EF553B",
           "#00cc96",
           "#ab63fa",
           "#FFA15A",
           "#19d3f3",
           "#FF6692",
           "#B6E880",
           "#FF97FF",
           "#FECB52"
          ],
          "font": {
           "color": "#2a3f5f"
          },
          "hovermode": "closest",
          "hoverlabel": {
           "align": "left"
          },
          "paper_bgcolor": "white",
          "plot_bgcolor": "#E5ECF6",
          "polar": {
           "bgcolor": "#E5ECF6",
           "angularaxis": {
            "gridcolor": "white",
            "linecolor": "white",
            "ticks": ""
           },
           "radialaxis": {
            "gridcolor": "white",
            "linecolor": "white",
            "ticks": ""
           }
          },
          "ternary": {
           "bgcolor": "#E5ECF6",
           "aaxis": {
            "gridcolor": "white",
            "linecolor": "white",
            "ticks": ""
           },
           "baxis": {
            "gridcolor": "white",
            "linecolor": "white",
            "ticks": ""
           },
           "caxis": {
            "gridcolor": "white",
            "linecolor": "white",
            "ticks": ""
           }
          },
          "coloraxis": {
           "colorbar": {
            "outlinewidth": 0,
            "ticks": ""
           }
          },
          "colorscale": {
           "sequential": [
            [
             0.0,
             "#0d0887"
            ],
            [
             0.1111111111111111,
             "#46039f"
            ],
            [
             0.2222222222222222,
             "#7201a8"
            ],
            [
             0.3333333333333333,
             "#9c179e"
            ],
            [
             0.4444444444444444,
             "#bd3786"
            ],
            [
             0.5555555555555556,
             "#d8576b"
            ],
            [
             0.6666666666666666,
             "#ed7953"
            ],
            [
             0.7777777777777778,
             "#fb9f3a"
            ],
            [
             0.8888888888888888,
             "#fdca26"
            ],
            [
             1.0,
             "#f0f921"
            ]
           ],
           "sequentialminus": [
            [
             0.0,
             "#0d0887"
            ],
            [
             0.1111111111111111,
             "#46039f"
            ],
            [
             0.2222222222222222,
             "#7201a8"
            ],
            [
             0.3333333333333333,
             "#9c179e"
            ],
            [
             0.4444444444444444,
             "#bd3786"
            ],
            [
             0.5555555555555556,
             "#d8576b"
            ],
            [
             0.6666666666666666,
             "#ed7953"
            ],
            [
             0.7777777777777778,
             "#fb9f3a"
            ],
            [
             0.8888888888888888,
             "#fdca26"
            ],
            [
             1.0,
             "#f0f921"
            ]
           ],
           "diverging": [
            [
             0,
             "#8e0152"
            ],
            [
             0.1,
             "#c51b7d"
            ],
            [
             0.2,
             "#de77ae"
            ],
            [
             0.3,
             "#f1b6da"
            ],
            [
             0.4,
             "#fde0ef"
            ],
            [
             0.5,
             "#f7f7f7"
            ],
            [
             0.6,
             "#e6f5d0"
            ],
            [
             0.7,
             "#b8e186"
            ],
            [
             0.8,
             "#7fbc41"
            ],
            [
             0.9,
             "#4d9221"
            ],
            [
             1,
             "#276419"
            ]
           ]
          },
          "xaxis": {
           "gridcolor": "white",
           "linecolor": "white",
           "ticks": "",
           "title": {
            "standoff": 15
           },
           "zerolinecolor": "white",
           "automargin": true,
           "zerolinewidth": 2
          },
          "yaxis": {
           "gridcolor": "white",
           "linecolor": "white",
           "ticks": "",
           "title": {
            "standoff": 15
           },
           "zerolinecolor": "white",
           "automargin": true,
           "zerolinewidth": 2
          },
          "scene": {
           "xaxis": {
            "backgroundcolor": "#E5ECF6",
            "gridcolor": "white",
            "linecolor": "white",
            "showbackground": true,
            "ticks": "",
            "zerolinecolor": "white",
            "gridwidth": 2
           },
           "yaxis": {
            "backgroundcolor": "#E5ECF6",
            "gridcolor": "white",
            "linecolor": "white",
            "showbackground": true,
            "ticks": "",
            "zerolinecolor": "white",
            "gridwidth": 2
           },
           "zaxis": {
            "backgroundcolor": "#E5ECF6",
            "gridcolor": "white",
            "linecolor": "white",
            "showbackground": true,
            "ticks": "",
            "zerolinecolor": "white",
            "gridwidth": 2
           }
          },
          "shapedefaults": {
           "line": {
            "color": "#2a3f5f"
           }
          },
          "annotationdefaults": {
           "arrowcolor": "#2a3f5f",
           "arrowhead": 0,
           "arrowwidth": 1
          },
          "geo": {
           "bgcolor": "white",
           "landcolor": "#E5ECF6",
           "subunitcolor": "white",
           "showland": true,
           "showlakes": true,
           "lakecolor": "white"
          },
          "title": {
           "x": 0.05
          },
          "mapbox": {
           "style": "light"
          }
         }
        },
        "yaxis": {
         "tickvals": [
          0,
          1,
          2,
          3,
          4
         ],
         "ticktext": [
          "Venloer_4279001084",
          "Vogelsanger_2107720091",
          "Weinsbergstr_2603639844",
          "Hollar_8546960460",
          "Aachener_750549269"
         ],
         "title": {
          "text": "Ampel"
         },
         "autorange": "reversed"
        },
        "title": {
         "text": "Ampelphasen über Zeit"
        },
        "xaxis": {
         "title": {
          "text": "Zeit"
         }
        },
        "height": 550,
        "hovermode": "closest"
       },
       "config": {
        "plotlyServerURL": "https://plot.ly"
       }
      }
     },
     "metadata": {},
     "output_type": "display_data"
    }
   ],
   "execution_count": 49
  },
  {
   "metadata": {
    "ExecuteTime": {
     "end_time": "2025-07-11T12:23:10.031634Z",
     "start_time": "2025-07-11T12:23:09.975378Z"
    }
   },
   "cell_type": "code",
   "source": [
    "# %%\n",
    "import plotly.graph_objects as go\n",
    "from datetime import timedelta\n",
    "\n",
    "# Bekannter Zyklus\n",
    "cycle_length = 110  # Sekunden\n",
    "ref_code = \"Venloer_4279001084\"\n",
    "ref_times = dfs[ref_code][dfs[ref_code]['Value'] == 1]['Time'].reset_index(drop=True)\n",
    "t0 = ref_times.iloc[0]\n",
    "\n",
    "# Offsets berechnen wie zuvor (gegen t0)\n",
    "offset_seconds = {}\n",
    "for code, df in dfs.items():\n",
    "    if code == ref_code:\n",
    "        continue\n",
    "    gruen = df[df['Value'] == 1]['Time'].reset_index(drop=True)\n",
    "    offset = ((gruen - t0).dt.total_seconds() % cycle_length).mean()\n",
    "    offset_seconds[code] = offset\n",
    "\n",
    "# Marker-Vorbereitung\n",
    "shifted_markers = []\n",
    "\n",
    "ampel_ypos = {code: i for i, code in enumerate(dfs.keys())}\n",
    "\n",
    "for code, df in dfs.items():\n",
    "    df = df[df['Value'] != 0].copy()\n",
    "    df = df.sort_values(\"Time\").reset_index(drop=True)\n",
    "    y = ampel_ypos[code]\n",
    "    \n",
    "    if code == ref_code:\n",
    "        # keine Verschiebung\n",
    "        shifted_df = df.copy()\n",
    "    else:\n",
    "        first_gruen = df[df['Value'] == 1]['Time'].iloc[0]\n",
    "        offset_s = offset_seconds[code]\n",
    "        delta = (first_gruen - t0).total_seconds() - offset_s\n",
    "        shifted_df = df.copy()\n",
    "        shifted_df['Time'] = df['Time'] - timedelta(seconds=delta)\n",
    "\n",
    "    # Plot: Grün\n",
    "    green_df = shifted_df[shifted_df['Value'] == 1]\n",
    "    shifted_markers.append(go.Scatter(\n",
    "        x=green_df['Time'],\n",
    "        y=[y]*len(green_df),\n",
    "        mode='markers',\n",
    "        marker=dict(color='green', size=10),\n",
    "        name=f\"{code} – Grün\",\n",
    "        legendgroup=code,\n",
    "        showlegend=True\n",
    "    ))\n",
    "\n",
    "    # Plot: Rot\n",
    "    red_df = shifted_df[shifted_df['Value'] == -1]\n",
    "    shifted_markers.append(go.Scatter(\n",
    "        x=red_df['Time'],\n",
    "        y=[y]*len(red_df),\n",
    "        mode='markers',\n",
    "        marker=dict(color='red', size=10),\n",
    "        name=f\"{code} – Rot\",\n",
    "        legendgroup=code,\n",
    "        showlegend=True\n",
    "    ))\n",
    "\n",
    "# Plot anzeigen\n",
    "fig = go.Figure(data=shifted_markers)\n",
    "\n",
    "fig.update_layout(\n",
    "    title=\"Synchronisierte Ampelphasen nach Offset-Shift\",\n",
    "    xaxis_title=\"Zeit (verschoben in gemeinsamen Zyklus)\",\n",
    "    yaxis=dict(\n",
    "        tickvals=list(ampel_ypos.values()),\n",
    "        ticktext=list(ampel_ypos.keys()),\n",
    "        title=\"Ampel\"\n",
    "    ),\n",
    "    height=50 + len(dfs)*100,\n",
    "    hovermode='closest'\n",
    ")\n",
    "\n",
    "fig.show()\n"
   ],
   "id": "988f77e3edf8a466",
   "outputs": [
    {
     "data": {
      "application/vnd.plotly.v1+json": {
       "data": [
        {
         "legendgroup": "Venloer_4279001084",
         "marker": {
          "color": "green",
          "size": 10
         },
         "mode": "markers",
         "name": "Venloer_4279001084 – Grün",
         "showlegend": true,
         "x": [
          "2025-07-11T09:40:21.000000000",
          "2025-07-11T09:42:10.000000000",
          "2025-07-11T09:44:01.000000000",
          "2025-07-11T09:45:51.000000000",
          "2025-07-11T09:47:41.000000000",
          "2025-07-11T09:49:35.000000000"
         ],
         "y": [
          0,
          0,
          0,
          0,
          0,
          0
         ],
         "type": "scatter"
        },
        {
         "legendgroup": "Venloer_4279001084",
         "marker": {
          "color": "red",
          "size": 10
         },
         "mode": "markers",
         "name": "Venloer_4279001084 – Rot",
         "showlegend": true,
         "x": [
          "2025-07-11T09:41:21.000000000",
          "2025-07-11T09:43:24.000000000",
          "2025-07-11T09:45:02.000000000",
          "2025-07-11T09:46:47.000000000",
          "2025-07-11T09:48:54.000000000"
         ],
         "y": [
          0,
          0,
          0,
          0,
          0
         ],
         "type": "scatter"
        },
        {
         "legendgroup": "Vogelsanger_2107720091",
         "marker": {
          "color": "green",
          "size": 10
         },
         "mode": "markers",
         "name": "Vogelsanger_2107720091 – Grün",
         "showlegend": true,
         "x": [
          "2025-07-11T09:40:38.250000000",
          "2025-07-11T09:42:28.250000000",
          "2025-07-11T09:44:18.250000000",
          "2025-07-11T09:46:09.250000000"
         ],
         "y": [
          1,
          1,
          1,
          1
         ],
         "type": "scatter"
        },
        {
         "legendgroup": "Vogelsanger_2107720091",
         "marker": {
          "color": "red",
          "size": 10
         },
         "mode": "markers",
         "name": "Vogelsanger_2107720091 – Rot",
         "showlegend": true,
         "x": [
          "2025-07-11T09:41:34.250000000",
          "2025-07-11T09:43:24.250000000",
          "2025-07-11T09:45:14.250000000"
         ],
         "y": [
          1,
          1,
          1
         ],
         "type": "scatter"
        },
        {
         "legendgroup": "Weinsbergstr_2603639844",
         "marker": {
          "color": "green",
          "size": 10
         },
         "mode": "markers",
         "name": "Weinsbergstr_2603639844 – Grün",
         "showlegend": true,
         "x": [
          "2025-07-11T09:41:20.833333000",
          "2025-07-11T09:43:15.833333000",
          "2025-07-11T09:45:00.833333000",
          "2025-07-11T09:46:50.833333000",
          "2025-07-11T09:48:40.833333000",
          "2025-07-11T09:50:30.833333000"
         ],
         "y": [
          2,
          2,
          2,
          2,
          2,
          2
         ],
         "type": "scatter"
        },
        {
         "legendgroup": "Weinsbergstr_2603639844",
         "marker": {
          "color": "red",
          "size": 10
         },
         "mode": "markers",
         "name": "Weinsbergstr_2603639844 – Rot",
         "showlegend": true,
         "x": [
          "2025-07-11T09:42:00.833333000",
          "2025-07-11T09:43:52.833333000",
          "2025-07-11T09:45:40.833333000",
          "2025-07-11T09:47:30.833333000",
          "2025-07-11T09:49:20.833333000"
         ],
         "y": [
          2,
          2,
          2,
          2,
          2
         ],
         "type": "scatter"
        },
        {
         "legendgroup": "Hollar_8546960460",
         "marker": {
          "color": "green",
          "size": 10
         },
         "mode": "markers",
         "name": "Hollar_8546960460 – Grün",
         "showlegend": true,
         "x": [
          "2025-07-11T09:40:52.800000000",
          "2025-07-11T09:42:41.800000000",
          "2025-07-11T09:44:28.800000000",
          "2025-07-11T09:46:22.800000000",
          "2025-07-11T09:48:11.800000000"
         ],
         "y": [
          3,
          3,
          3,
          3,
          3
         ],
         "type": "scatter"
        },
        {
         "legendgroup": "Hollar_8546960460",
         "marker": {
          "color": "red",
          "size": 10
         },
         "mode": "markers",
         "name": "Hollar_8546960460 – Rot",
         "showlegend": true,
         "x": [
          "2025-07-11T09:42:19.800000000",
          "2025-07-11T09:44:08.800000000",
          "2025-07-11T09:46:06.800000000",
          "2025-07-11T09:47:48.800000000"
         ],
         "y": [
          3,
          3,
          3,
          3
         ],
         "type": "scatter"
        },
        {
         "legendgroup": "Aachener_750549269",
         "marker": {
          "color": "green",
          "size": 10
         },
         "mode": "markers",
         "name": "Aachener_750549269 – Grün",
         "showlegend": true,
         "x": [
          "2025-07-11T09:41:25.600000000",
          "2025-07-11T09:43:16.600000000",
          "2025-07-11T09:45:03.600000000",
          "2025-07-11T09:46:57.600000000",
          "2025-07-11T09:48:47.600000000"
         ],
         "y": [
          4,
          4,
          4,
          4,
          4
         ],
         "type": "scatter"
        },
        {
         "legendgroup": "Aachener_750549269",
         "marker": {
          "color": "red",
          "size": 10
         },
         "mode": "markers",
         "name": "Aachener_750549269 – Rot",
         "showlegend": true,
         "x": [
          "2025-07-11T09:42:20.600000000",
          "2025-07-11T09:44:10.600000000",
          "2025-07-11T09:46:00.600000000",
          "2025-07-11T09:47:50.600000000"
         ],
         "y": [
          4,
          4,
          4,
          4
         ],
         "type": "scatter"
        }
       ],
       "layout": {
        "template": {
         "data": {
          "histogram2dcontour": [
           {
            "type": "histogram2dcontour",
            "colorbar": {
             "outlinewidth": 0,
             "ticks": ""
            },
            "colorscale": [
             [
              0.0,
              "#0d0887"
             ],
             [
              0.1111111111111111,
              "#46039f"
             ],
             [
              0.2222222222222222,
              "#7201a8"
             ],
             [
              0.3333333333333333,
              "#9c179e"
             ],
             [
              0.4444444444444444,
              "#bd3786"
             ],
             [
              0.5555555555555556,
              "#d8576b"
             ],
             [
              0.6666666666666666,
              "#ed7953"
             ],
             [
              0.7777777777777778,
              "#fb9f3a"
             ],
             [
              0.8888888888888888,
              "#fdca26"
             ],
             [
              1.0,
              "#f0f921"
             ]
            ]
           }
          ],
          "choropleth": [
           {
            "type": "choropleth",
            "colorbar": {
             "outlinewidth": 0,
             "ticks": ""
            }
           }
          ],
          "histogram2d": [
           {
            "type": "histogram2d",
            "colorbar": {
             "outlinewidth": 0,
             "ticks": ""
            },
            "colorscale": [
             [
              0.0,
              "#0d0887"
             ],
             [
              0.1111111111111111,
              "#46039f"
             ],
             [
              0.2222222222222222,
              "#7201a8"
             ],
             [
              0.3333333333333333,
              "#9c179e"
             ],
             [
              0.4444444444444444,
              "#bd3786"
             ],
             [
              0.5555555555555556,
              "#d8576b"
             ],
             [
              0.6666666666666666,
              "#ed7953"
             ],
             [
              0.7777777777777778,
              "#fb9f3a"
             ],
             [
              0.8888888888888888,
              "#fdca26"
             ],
             [
              1.0,
              "#f0f921"
             ]
            ]
           }
          ],
          "heatmap": [
           {
            "type": "heatmap",
            "colorbar": {
             "outlinewidth": 0,
             "ticks": ""
            },
            "colorscale": [
             [
              0.0,
              "#0d0887"
             ],
             [
              0.1111111111111111,
              "#46039f"
             ],
             [
              0.2222222222222222,
              "#7201a8"
             ],
             [
              0.3333333333333333,
              "#9c179e"
             ],
             [
              0.4444444444444444,
              "#bd3786"
             ],
             [
              0.5555555555555556,
              "#d8576b"
             ],
             [
              0.6666666666666666,
              "#ed7953"
             ],
             [
              0.7777777777777778,
              "#fb9f3a"
             ],
             [
              0.8888888888888888,
              "#fdca26"
             ],
             [
              1.0,
              "#f0f921"
             ]
            ]
           }
          ],
          "contourcarpet": [
           {
            "type": "contourcarpet",
            "colorbar": {
             "outlinewidth": 0,
             "ticks": ""
            }
           }
          ],
          "contour": [
           {
            "type": "contour",
            "colorbar": {
             "outlinewidth": 0,
             "ticks": ""
            },
            "colorscale": [
             [
              0.0,
              "#0d0887"
             ],
             [
              0.1111111111111111,
              "#46039f"
             ],
             [
              0.2222222222222222,
              "#7201a8"
             ],
             [
              0.3333333333333333,
              "#9c179e"
             ],
             [
              0.4444444444444444,
              "#bd3786"
             ],
             [
              0.5555555555555556,
              "#d8576b"
             ],
             [
              0.6666666666666666,
              "#ed7953"
             ],
             [
              0.7777777777777778,
              "#fb9f3a"
             ],
             [
              0.8888888888888888,
              "#fdca26"
             ],
             [
              1.0,
              "#f0f921"
             ]
            ]
           }
          ],
          "surface": [
           {
            "type": "surface",
            "colorbar": {
             "outlinewidth": 0,
             "ticks": ""
            },
            "colorscale": [
             [
              0.0,
              "#0d0887"
             ],
             [
              0.1111111111111111,
              "#46039f"
             ],
             [
              0.2222222222222222,
              "#7201a8"
             ],
             [
              0.3333333333333333,
              "#9c179e"
             ],
             [
              0.4444444444444444,
              "#bd3786"
             ],
             [
              0.5555555555555556,
              "#d8576b"
             ],
             [
              0.6666666666666666,
              "#ed7953"
             ],
             [
              0.7777777777777778,
              "#fb9f3a"
             ],
             [
              0.8888888888888888,
              "#fdca26"
             ],
             [
              1.0,
              "#f0f921"
             ]
            ]
           }
          ],
          "mesh3d": [
           {
            "type": "mesh3d",
            "colorbar": {
             "outlinewidth": 0,
             "ticks": ""
            }
           }
          ],
          "scatter": [
           {
            "fillpattern": {
             "fillmode": "overlay",
             "size": 10,
             "solidity": 0.2
            },
            "type": "scatter"
           }
          ],
          "parcoords": [
           {
            "type": "parcoords",
            "line": {
             "colorbar": {
              "outlinewidth": 0,
              "ticks": ""
             }
            }
           }
          ],
          "scatterpolargl": [
           {
            "type": "scatterpolargl",
            "marker": {
             "colorbar": {
              "outlinewidth": 0,
              "ticks": ""
             }
            }
           }
          ],
          "bar": [
           {
            "error_x": {
             "color": "#2a3f5f"
            },
            "error_y": {
             "color": "#2a3f5f"
            },
            "marker": {
             "line": {
              "color": "#E5ECF6",
              "width": 0.5
             },
             "pattern": {
              "fillmode": "overlay",
              "size": 10,
              "solidity": 0.2
             }
            },
            "type": "bar"
           }
          ],
          "scattergeo": [
           {
            "type": "scattergeo",
            "marker": {
             "colorbar": {
              "outlinewidth": 0,
              "ticks": ""
             }
            }
           }
          ],
          "scatterpolar": [
           {
            "type": "scatterpolar",
            "marker": {
             "colorbar": {
              "outlinewidth": 0,
              "ticks": ""
             }
            }
           }
          ],
          "histogram": [
           {
            "marker": {
             "pattern": {
              "fillmode": "overlay",
              "size": 10,
              "solidity": 0.2
             }
            },
            "type": "histogram"
           }
          ],
          "scattergl": [
           {
            "type": "scattergl",
            "marker": {
             "colorbar": {
              "outlinewidth": 0,
              "ticks": ""
             }
            }
           }
          ],
          "scatter3d": [
           {
            "type": "scatter3d",
            "line": {
             "colorbar": {
              "outlinewidth": 0,
              "ticks": ""
             }
            },
            "marker": {
             "colorbar": {
              "outlinewidth": 0,
              "ticks": ""
             }
            }
           }
          ],
          "scattermap": [
           {
            "type": "scattermap",
            "marker": {
             "colorbar": {
              "outlinewidth": 0,
              "ticks": ""
             }
            }
           }
          ],
          "scattermapbox": [
           {
            "type": "scattermapbox",
            "marker": {
             "colorbar": {
              "outlinewidth": 0,
              "ticks": ""
             }
            }
           }
          ],
          "scatterternary": [
           {
            "type": "scatterternary",
            "marker": {
             "colorbar": {
              "outlinewidth": 0,
              "ticks": ""
             }
            }
           }
          ],
          "scattercarpet": [
           {
            "type": "scattercarpet",
            "marker": {
             "colorbar": {
              "outlinewidth": 0,
              "ticks": ""
             }
            }
           }
          ],
          "carpet": [
           {
            "aaxis": {
             "endlinecolor": "#2a3f5f",
             "gridcolor": "white",
             "linecolor": "white",
             "minorgridcolor": "white",
             "startlinecolor": "#2a3f5f"
            },
            "baxis": {
             "endlinecolor": "#2a3f5f",
             "gridcolor": "white",
             "linecolor": "white",
             "minorgridcolor": "white",
             "startlinecolor": "#2a3f5f"
            },
            "type": "carpet"
           }
          ],
          "table": [
           {
            "cells": {
             "fill": {
              "color": "#EBF0F8"
             },
             "line": {
              "color": "white"
             }
            },
            "header": {
             "fill": {
              "color": "#C8D4E3"
             },
             "line": {
              "color": "white"
             }
            },
            "type": "table"
           }
          ],
          "barpolar": [
           {
            "marker": {
             "line": {
              "color": "#E5ECF6",
              "width": 0.5
             },
             "pattern": {
              "fillmode": "overlay",
              "size": 10,
              "solidity": 0.2
             }
            },
            "type": "barpolar"
           }
          ],
          "pie": [
           {
            "automargin": true,
            "type": "pie"
           }
          ]
         },
         "layout": {
          "autotypenumbers": "strict",
          "colorway": [
           "#636efa",
           "#EF553B",
           "#00cc96",
           "#ab63fa",
           "#FFA15A",
           "#19d3f3",
           "#FF6692",
           "#B6E880",
           "#FF97FF",
           "#FECB52"
          ],
          "font": {
           "color": "#2a3f5f"
          },
          "hovermode": "closest",
          "hoverlabel": {
           "align": "left"
          },
          "paper_bgcolor": "white",
          "plot_bgcolor": "#E5ECF6",
          "polar": {
           "bgcolor": "#E5ECF6",
           "angularaxis": {
            "gridcolor": "white",
            "linecolor": "white",
            "ticks": ""
           },
           "radialaxis": {
            "gridcolor": "white",
            "linecolor": "white",
            "ticks": ""
           }
          },
          "ternary": {
           "bgcolor": "#E5ECF6",
           "aaxis": {
            "gridcolor": "white",
            "linecolor": "white",
            "ticks": ""
           },
           "baxis": {
            "gridcolor": "white",
            "linecolor": "white",
            "ticks": ""
           },
           "caxis": {
            "gridcolor": "white",
            "linecolor": "white",
            "ticks": ""
           }
          },
          "coloraxis": {
           "colorbar": {
            "outlinewidth": 0,
            "ticks": ""
           }
          },
          "colorscale": {
           "sequential": [
            [
             0.0,
             "#0d0887"
            ],
            [
             0.1111111111111111,
             "#46039f"
            ],
            [
             0.2222222222222222,
             "#7201a8"
            ],
            [
             0.3333333333333333,
             "#9c179e"
            ],
            [
             0.4444444444444444,
             "#bd3786"
            ],
            [
             0.5555555555555556,
             "#d8576b"
            ],
            [
             0.6666666666666666,
             "#ed7953"
            ],
            [
             0.7777777777777778,
             "#fb9f3a"
            ],
            [
             0.8888888888888888,
             "#fdca26"
            ],
            [
             1.0,
             "#f0f921"
            ]
           ],
           "sequentialminus": [
            [
             0.0,
             "#0d0887"
            ],
            [
             0.1111111111111111,
             "#46039f"
            ],
            [
             0.2222222222222222,
             "#7201a8"
            ],
            [
             0.3333333333333333,
             "#9c179e"
            ],
            [
             0.4444444444444444,
             "#bd3786"
            ],
            [
             0.5555555555555556,
             "#d8576b"
            ],
            [
             0.6666666666666666,
             "#ed7953"
            ],
            [
             0.7777777777777778,
             "#fb9f3a"
            ],
            [
             0.8888888888888888,
             "#fdca26"
            ],
            [
             1.0,
             "#f0f921"
            ]
           ],
           "diverging": [
            [
             0,
             "#8e0152"
            ],
            [
             0.1,
             "#c51b7d"
            ],
            [
             0.2,
             "#de77ae"
            ],
            [
             0.3,
             "#f1b6da"
            ],
            [
             0.4,
             "#fde0ef"
            ],
            [
             0.5,
             "#f7f7f7"
            ],
            [
             0.6,
             "#e6f5d0"
            ],
            [
             0.7,
             "#b8e186"
            ],
            [
             0.8,
             "#7fbc41"
            ],
            [
             0.9,
             "#4d9221"
            ],
            [
             1,
             "#276419"
            ]
           ]
          },
          "xaxis": {
           "gridcolor": "white",
           "linecolor": "white",
           "ticks": "",
           "title": {
            "standoff": 15
           },
           "zerolinecolor": "white",
           "automargin": true,
           "zerolinewidth": 2
          },
          "yaxis": {
           "gridcolor": "white",
           "linecolor": "white",
           "ticks": "",
           "title": {
            "standoff": 15
           },
           "zerolinecolor": "white",
           "automargin": true,
           "zerolinewidth": 2
          },
          "scene": {
           "xaxis": {
            "backgroundcolor": "#E5ECF6",
            "gridcolor": "white",
            "linecolor": "white",
            "showbackground": true,
            "ticks": "",
            "zerolinecolor": "white",
            "gridwidth": 2
           },
           "yaxis": {
            "backgroundcolor": "#E5ECF6",
            "gridcolor": "white",
            "linecolor": "white",
            "showbackground": true,
            "ticks": "",
            "zerolinecolor": "white",
            "gridwidth": 2
           },
           "zaxis": {
            "backgroundcolor": "#E5ECF6",
            "gridcolor": "white",
            "linecolor": "white",
            "showbackground": true,
            "ticks": "",
            "zerolinecolor": "white",
            "gridwidth": 2
           }
          },
          "shapedefaults": {
           "line": {
            "color": "#2a3f5f"
           }
          },
          "annotationdefaults": {
           "arrowcolor": "#2a3f5f",
           "arrowhead": 0,
           "arrowwidth": 1
          },
          "geo": {
           "bgcolor": "white",
           "landcolor": "#E5ECF6",
           "subunitcolor": "white",
           "showland": true,
           "showlakes": true,
           "lakecolor": "white"
          },
          "title": {
           "x": 0.05
          },
          "mapbox": {
           "style": "light"
          }
         }
        },
        "yaxis": {
         "tickvals": [
          0,
          1,
          2,
          3,
          4
         ],
         "ticktext": [
          "Venloer_4279001084",
          "Vogelsanger_2107720091",
          "Weinsbergstr_2603639844",
          "Hollar_8546960460",
          "Aachener_750549269"
         ],
         "title": {
          "text": "Ampel"
         }
        },
        "title": {
         "text": "Synchronisierte Ampelphasen nach Offset-Shift"
        },
        "xaxis": {
         "title": {
          "text": "Zeit (verschoben in gemeinsamen Zyklus)"
         }
        },
        "height": 550,
        "hovermode": "closest"
       },
       "config": {
        "plotlyServerURL": "https://plot.ly"
       }
      }
     },
     "metadata": {},
     "output_type": "display_data"
    }
   ],
   "execution_count": 50
  },
  {
   "metadata": {
    "ExecuteTime": {
     "end_time": "2025-07-11T10:23:58.064355Z",
     "start_time": "2025-07-11T10:23:57.220706Z"
    }
   },
   "cell_type": "code",
   "source": [
    "# %%\n",
    "fig, axes = plt.subplots(len(dfs), 1, figsize=(12, 4*len(dfs)), sharex=False)\n",
    "\n",
    "for idx, (code, df) in enumerate(dfs.items()):\n",
    "    ev = df[df['Value'] != 0].sort_values('Time').reset_index(drop=True)\n",
    "    green_times = ev[ev['Value'] == 1]['Time'].reset_index(drop=True)\n",
    "    red_times   = ev[ev['Value'] == -1]['Time'].reset_index(drop=True)\n",
    "    n = min(len(green_times), len(red_times))\n",
    "    \n",
    "    dur_green = (red_times.iloc[:n] - green_times.iloc[:n]).dt.total_seconds()\n",
    "    dur_red = (green_times.shift(-1) - red_times).dt.total_seconds().dropna()\n",
    "\n",
    "\n",
    "    x_green = np.arange(len(dur_green))\n",
    "    x_red   = np.arange(len(dur_red))\n",
    "    \n",
    "    ax = axes[idx]\n",
    "    ax.scatter(x_green, dur_green, label='Grünphase', color='green', alpha=0.3)\n",
    "    ax.scatter(x_red,   dur_red,   label='Rotphase',  color='red',   alpha=0.3)\n",
    "    \n",
    "    ax.set_title(f\"{code} – Phasendauern je Zyklus\")\n",
    "    ax.set_xlabel(\"Zyklusindex\")\n",
    "    ax.set_ylabel(\"Phasendauer (s)\")\n",
    "    ax.set_ylim(15, 100)\n",
    "    \n",
    "    # Nur ganzzahlige x-Ticks und vertikale Gitterlinien\n",
    "    max_x = max(len(x_green), len(x_red))\n",
    "    ax.set_xticks(np.arange(0, max_x))\n",
    "    ax.grid(True, which='major', axis='x', linestyle='--', alpha=0.3)\n",
    "    ax.grid(True, which='major', axis='y', linestyle='-', alpha=0.5)\n",
    "    \n",
    "    ax.legend()\n",
    "\n",
    "plt.tight_layout()\n",
    "plt.show()\n"
   ],
   "id": "cca24556cd0daf2d",
   "outputs": [
    {
     "data": {
      "text/plain": [
       "<Figure size 1200x2000 with 5 Axes>"
      ],
      "image/png": "[encoded data removed]"
     },
     "metadata": {},
     "output_type": "display_data"
    }
   ],
   "execution_count": 36
  },
  {
   "metadata": {
    "ExecuteTime": {
     "end_time": "2025-07-11T12:25:09.465320Z",
     "start_time": "2025-07-11T12:25:09.443660Z"
    }
   },
   "cell_type": "code",
   "source": [
    "# %%\n",
    "cycle_length = 110  # Sekunden\n",
    "ref_code = \"Venloer_4279001084\"\n",
    "\n",
    "# Referenz-Grünstart-Zeitpunkt\n",
    "ref_times = dfs[ref_code][dfs[ref_code]['Value'] == 1]['Time'].reset_index(drop=True)\n",
    "t0 = ref_times.iloc[0]\n",
    "ref_offsets = ((ref_times - t0).dt.total_seconds() % cycle_length)\n",
    "\n",
    "offsets = {}\n",
    "\n",
    "for code, df in dfs.items():\n",
    "    if code == ref_code:\n",
    "        continue\n",
    "    times = df[df['Value'] == 1]['Time'].reset_index(drop=True)\n",
    "    t0_other = times.iloc[0]\n",
    "    other_offsets = ((times - t0).dt.total_seconds() % cycle_length)\n",
    "\n",
    "    # Jetzt Differenzen der zyklischen Offsets berechnen\n",
    "    # z. B. ref hat [5, 115, 225] → offset 5\n",
    "    # andere hat [10, 120, 230] → offset 10 o440, → Versatz = 5 s\n",
    "    diffs = (other_offsets - ref_offsets[:len(other_offsets)]) % cycle_length\n",
    "\n",
    "    offsets[code] = {\n",
    "        'mean_cycle_offset_s': np.mean(diffs),\n",
    "        'std_cycle_offset_s':  np.std(diffs),\n",
    "        'n_matched': len(diffs)\n",
    "    }\n",
    "\n",
    "pd.DataFrame(offsets).T\n"
   ],
   "id": "f8e48d25f86eb184",
   "outputs": [
    {
     "data": {
      "text/plain": [
       "                         mean_cycle_offset_s  std_cycle_offset_s  n_matched\n",
       "Vogelsanger_2107720091             17.500000            0.500000        4.0\n",
       "Weinsbergstr_2603639844            59.333333            2.924988        6.0\n",
       "Hollar_8546960460                  32.000000            1.549193        5.0\n",
       "Aachener_750549269                 64.800000            1.600000        5.0"
      ],
      "text/html": [
       "<div>\n",
       "<style scoped>\n",
       "    .dataframe tbody tr th:only-of-type {\n",
       "        vertical-align: middle;\n",
       "    }\n",
       "\n",
       "    .dataframe tbody tr th {\n",
       "        vertical-align: top;\n",
       "    }\n",
       "\n",
       "    .dataframe thead th {\n",
       "        text-align: right;\n",
       "    }\n",
       "</style>\n",
       "<table border=\"1\" class=\"dataframe\">\n",
       "  <thead>\n",
       "    <tr style=\"text-align: right;\">\n",
       "      <th></th>\n",
       "      <th>mean_cycle_offset_s</th>\n",
       "      <th>std_cycle_offset_s</th>\n",
       "      <th>n_matched</th>\n",
       "    </tr>\n",
       "  </thead>\n",
       "  <tbody>\n",
       "    <tr>\n",
       "      <th>Vogelsanger_2107720091</th>\n",
       "      <td>17.500000</td>\n",
       "      <td>0.500000</td>\n",
       "      <td>4.0</td>\n",
       "    </tr>\n",
       "    <tr>\n",
       "      <th>Weinsbergstr_2603639844</th>\n",
       "      <td>59.333333</td>\n",
       "      <td>2.924988</td>\n",
       "      <td>6.0</td>\n",
       "    </tr>\n",
       "    <tr>\n",
       "      <th>Hollar_8546960460</th>\n",
       "      <td>32.000000</td>\n",
       "      <td>1.549193</td>\n",
       "      <td>5.0</td>\n",
       "    </tr>\n",
       "    <tr>\n",
       "      <th>Aachener_750549269</th>\n",
       "      <td>64.800000</td>\n",
       "      <td>1.600000</td>\n",
       "      <td>5.0</td>\n",
       "    </tr>\n",
       "  </tbody>\n",
       "</table>\n",
       "</div>"
      ]
     },
     "execution_count": 51,
     "metadata": {},
     "output_type": "execute_result"
    }
   ],
   "execution_count": 51
  },
  {
   "metadata": {},
   "cell_type": "markdown",
   "source": [
    "---\n",
    "\n",
    "**Nächste Schritte / Interpretation:**\n",
    "- Aus `stats_df` erkennt man, wie konstant die Rot-/Grün-Dauern sind (Mittelwerte vs. Standardabweichung).\n",
    "- Die Histogramme zeigen eventuelle Ausreißer oder Mehrmodalitäten.\n",
    "- Die Offsets-Tabelle liefert, ob die Ampeln mit konstanter Zeitverschiebung zum Takt der Referenz-Ampel laufen.\n",
    "\n",
    "Je nach Ergebnis kann man tiefer in die Kreuzkorrelation gehen oder Zeitreihenplots erstellen, um Phasenbeziehungen dynamisch zu visualisieren.\n"
   ],
   "id": "8e5518cf47ee6fb6"
  }
 ],
 "metadata": {
  "kernelspec": {
   "display_name": "Python 3",
   "language": "python",
   "name": "python3"
  },
  "language_info": {
   "codemirror_mode": {
    "name": "ipython",
    "version": 2
   },
   "file_extension": ".py",
   "mimetype": "text/x-python",
   "name": "python",
   "nbconvert_exporter": "python",
   "pygments_lexer": "ipython2",
   "version": "2.7.6"
  }
 },
 "nbformat": 4,
 "nbformat_minor": 5
}
